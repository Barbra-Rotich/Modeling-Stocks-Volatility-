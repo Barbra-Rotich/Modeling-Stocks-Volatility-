{
 "cells": [
  {
   "cell_type": "markdown",
   "id": "9d11da5f-32db-4c07-a2e9-dfe0ea817008",
   "metadata": {},
   "source": [
    "4 MODEL DEPLOYMENT\n",
    "\n",
    "So far there is a module for getting and storing the data. There is code to train the model and clean its predictions. Put all this pieces  together and deploy the model with an API that others can use to train their own models and predict volatility. First start by creating a model for all the code created in the last lesson. Then complete the main module, which will hold the FastAPI application with two paths: one for model training and one for prediction.\n"
   ]
  },
  {
   "cell_type": "code",
   "execution_count": 14,
   "id": "f5bffdb4-2d73-41a1-b477-a70cfbb440c2",
   "metadata": {
    "tags": []
   },
   "outputs": [
    {
     "name": "stdout",
     "output_type": "stream",
     "text": [
      "The autoreload extension is already loaded. To reload it, use:\n",
      "  %reload_ext autoreload\n"
     ]
    }
   ],
   "source": [
    "%load_ext autoreload\n",
    "%autoreload 2\n",
    "\n",
    "import os\n",
    "import sqlite3\n",
    "from glob import glob\n",
    "import warnings\n",
    "\n",
    "import joblib\n",
    "import pandas as pd\n",
    "import requests\n",
    "from arch.univariate.base import ARCHModelResult\n",
    "from config import settings\n",
    "from data import SQLRepository\n",
    "warnings.simplefilter(action=\"ignore\", category=FutureWarning)"
   ]
  },
  {
   "cell_type": "markdown",
   "id": "02b67c21-5673-4361-8fb0-a6f71367fbaa",
   "metadata": {},
   "source": [
    "4.1 Model Module\n",
    "\n",
    "Create a model module to make the code  reusable\n",
    "Start by instantiating a repository to be used for testing the module as they are being built"
   ]
  },
  {
   "cell_type": "code",
   "execution_count": 15,
   "id": "6bb850b7-274e-4d95-857c-042e58a51bdb",
   "metadata": {
    "tags": []
   },
   "outputs": [
    {
     "name": "stdout",
     "output_type": "stream",
     "text": [
      "repo type: <class 'data.SQLRepository'>\n",
      "repo.connection type: <class 'sqlite3.Connection'>\n"
     ]
    }
   ],
   "source": [
    "#Create a SQLRepository named repo and attach it to a SQLite connection.\n",
    "connection = sqlite3.connect(settings.db_name, check_same_thread=False)\n",
    "repo = SQLRepository(connection=connection)\n",
    "\n",
    "print(\"repo type:\", type(repo))\n",
    "print(\"repo.connection type:\", type(repo.connection))"
   ]
  },
  {
   "cell_type": "markdown",
   "id": "5ad78c9e-0602-4f28-bd1e-e24d7e44c74e",
   "metadata": {},
   "source": [
    "In the model module, create a definition for a GarchModel model class. Use __init__ method. "
   ]
  },
  {
   "cell_type": "code",
   "execution_count": 16,
   "id": "7014ec74-185f-47df-8121-45d4746d0b91",
   "metadata": {
    "tags": []
   },
   "outputs": [],
   "source": [
    "#Test your class using the assert statements\n",
    "from model import GarchModel\n",
    "\n",
    "# Instantiate a `GarchModel`\n",
    "gm_cic = GarchModel(ticker=\"CIC\", repo=repo, use_new_data=False)\n",
    "\n",
    "# Does `gm_ambuja` have the correct attributes?\n",
    "assert gm_cic.ticker == \"CIC\"\n",
    "assert gm_cic.repo == repo\n",
    "assert not gm_cic.use_new_data\n",
    "assert gm_cic.model_directory == settings.model_directory"
   ]
  },
  {
   "cell_type": "markdown",
   "id": "e17c692c-e27e-4664-944a-5af945f088d8",
   "metadata": {},
   "source": [
    "Turn the wrangle_data function in to a method for the GarchModel class.\n"
   ]
  },
  {
   "cell_type": "code",
   "execution_count": 17,
   "id": "a2f261da-31dc-4611-b45f-63e4426a9bb4",
   "metadata": {
    "tags": []
   },
   "outputs": [
    {
     "data": {
      "text/plain": [
       "date\n",
       "2017-12-29     5.899227\n",
       "2018-01-02     0.482864\n",
       "2018-01-03    -2.461322\n",
       "2018-01-04    -2.162942\n",
       "2018-01-05    11.520511\n",
       "Name: return, dtype: float64"
      ]
     },
     "execution_count": 17,
     "metadata": {},
     "output_type": "execute_result"
    }
   ],
   "source": [
    "#Use the assert statements below to test the method by getting and wrangling data for Co-operative  Bank\n",
    "\n",
    "# Instantiate `GarchModel`, use new data\n",
    "model_coop = GarchModel(ticker=\"COOP\", repo=repo, use_new_data=True)\n",
    "\n",
    "# Check that model doesn't have `data` attribute yet\n",
    "assert not hasattr(model_coop, \"data\")\n",
    "\n",
    "# Wrangle data\n",
    "model_coop.wrangle_data(n_observations=1300)\n",
    "\n",
    "# Does model now have `data` attribute?\n",
    "assert hasattr(model_coop, \"data\")\n",
    "\n",
    "# Is the `data` a Series?\n",
    "assert isinstance(model_coop.data, pd.Series)\n",
    "\n",
    "# Is Series correct shape?\n",
    "assert model_coop.data.shape == (1300,)\n",
    "\n",
    "model_coop.data.head()"
   ]
  },
  {
   "cell_type": "markdown",
   "id": "6fcd90c0-af54-4231-b41e-20bcddcc2b83",
   "metadata": {
    "tags": []
   },
   "source": [
    "Use the previous code for creating a Garch model to create a fit method for the GarchModel class"
   ]
  },
  {
   "cell_type": "code",
   "execution_count": 18,
   "id": "1be63d36-4fb1-42fe-865e-1ef7983b900b",
   "metadata": {
    "tags": []
   },
   "outputs": [
    {
     "data": {
      "text/html": [
       "<table class=\"simpletable\">\n",
       "<caption>Constant Mean - GARCH Model Results</caption>\n",
       "<tr>\n",
       "  <th>Dep. Variable:</th>       <td>return</td>       <th>  R-squared:         </th>  <td>   0.000</td> \n",
       "</tr>\n",
       "<tr>\n",
       "  <th>Mean Model:</th>       <td>Constant Mean</td>   <th>  Adj. R-squared:    </th>  <td>   0.000</td> \n",
       "</tr>\n",
       "<tr>\n",
       "  <th>Vol Model:</th>            <td>GARCH</td>       <th>  Log-Likelihood:    </th> <td>  -2418.18</td>\n",
       "</tr>\n",
       "<tr>\n",
       "  <th>Distribution:</th>        <td>Normal</td>       <th>  AIC:               </th> <td>   4844.36</td>\n",
       "</tr>\n",
       "<tr>\n",
       "  <th>Method:</th>        <td>Maximum Likelihood</td> <th>  BIC:               </th> <td>   4863.99</td>\n",
       "</tr>\n",
       "<tr>\n",
       "  <th></th>                        <td></td>          <th>  No. Observations:  </th>    <td>1000</td>   \n",
       "</tr>\n",
       "<tr>\n",
       "  <th>Date:</th>           <td>Thu, Mar 02 2023</td>  <th>  Df Residuals:      </th>     <td>999</td>   \n",
       "</tr>\n",
       "<tr>\n",
       "  <th>Time:</th>               <td>03:52:23</td>      <th>  Df Model:          </th>      <td>1</td>    \n",
       "</tr>\n",
       "</table>\n",
       "<table class=\"simpletable\">\n",
       "<caption>Mean Model</caption>\n",
       "<tr>\n",
       "   <td></td>     <th>coef</th>     <th>std err</th>      <th>t</th>       <th>P>|t|</th>    <th>95.0% Conf. Int.</th>  \n",
       "</tr>\n",
       "<tr>\n",
       "  <th>mu</th> <td>    0.1654</td> <td>8.077e-02</td> <td>    2.048</td> <td>4.061e-02</td> <td>[7.072e-03,  0.324]</td>\n",
       "</tr>\n",
       "</table>\n",
       "<table class=\"simpletable\">\n",
       "<caption>Volatility Model</caption>\n",
       "<tr>\n",
       "      <td></td>        <th>coef</th>     <th>std err</th>      <th>t</th>       <th>P>|t|</th>    <th>95.0% Conf. Int.</th>  \n",
       "</tr>\n",
       "<tr>\n",
       "  <th>omega</th>    <td>    0.2083</td> <td>    0.165</td> <td>    1.261</td> <td>    0.207</td>  <td>[ -0.115,  0.532]</td> \n",
       "</tr>\n",
       "<tr>\n",
       "  <th>alpha[1]</th> <td>    0.1052</td> <td>4.697e-02</td> <td>    2.240</td> <td>2.512e-02</td> <td>[1.313e-02,  0.197]</td>\n",
       "</tr>\n",
       "<tr>\n",
       "  <th>beta[1]</th>  <td>    0.8762</td> <td>5.134e-02</td> <td>   17.069</td> <td>2.537e-65</td>  <td>[  0.776,  0.977]</td> \n",
       "</tr>\n",
       "</table><br/><br/>Covariance estimator: robust"
      ],
      "text/plain": [
       "<class 'statsmodels.iolib.summary.Summary'>\n",
       "\"\"\"\n",
       "                     Constant Mean - GARCH Model Results                      \n",
       "==============================================================================\n",
       "Dep. Variable:                 return   R-squared:                       0.000\n",
       "Mean Model:             Constant Mean   Adj. R-squared:                  0.000\n",
       "Vol Model:                      GARCH   Log-Likelihood:               -2418.18\n",
       "Distribution:                  Normal   AIC:                           4844.36\n",
       "Method:            Maximum Likelihood   BIC:                           4863.99\n",
       "                                        No. Observations:                 1000\n",
       "Date:                Thu, Mar 02 2023   Df Residuals:                      999\n",
       "Time:                        03:52:23   Df Model:                            1\n",
       "                                Mean Model                                \n",
       "==========================================================================\n",
       "                 coef    std err          t      P>|t|    95.0% Conf. Int.\n",
       "--------------------------------------------------------------------------\n",
       "mu             0.1654  8.077e-02      2.048  4.061e-02 [7.072e-03,  0.324]\n",
       "                             Volatility Model                             \n",
       "==========================================================================\n",
       "                 coef    std err          t      P>|t|    95.0% Conf. Int.\n",
       "--------------------------------------------------------------------------\n",
       "omega          0.2083      0.165      1.261      0.207   [ -0.115,  0.532]\n",
       "alpha[1]       0.1052  4.697e-02      2.240  2.512e-02 [1.313e-02,  0.197]\n",
       "beta[1]        0.8762  5.134e-02     17.069  2.537e-65   [  0.776,  0.977]\n",
       "==========================================================================\n",
       "\n",
       "Covariance estimator: robust\n",
       "\"\"\""
      ]
     },
     "execution_count": 18,
     "metadata": {},
     "output_type": "execute_result"
    }
   ],
   "source": [
    "#Use the assert statements below to test the method\n",
    "\n",
    "# Instantiate `GarchModel`, use old data\n",
    "model_coop = GarchModel(ticker=\"COOP\", repo=repo, use_new_data=False)\n",
    "\n",
    "# Wrangle data\n",
    "model_coop.wrangle_data(n_observations=1000)\n",
    "\n",
    "# Fit GARCH(1,1) model to data\n",
    "model_coop.fit(p=1, q=1)\n",
    "\n",
    "# Does `model_shop` have a `model` attribute now?\n",
    "assert hasattr(model_coop, \"model\")\n",
    "\n",
    "# Is model correct data type?\n",
    "assert isinstance(model_coop.model, ARCHModelResult)\n",
    "\n",
    "# Does model have correct parameters?\n",
    "assert model_coop.model.params.index.tolist() == [\"mu\", \"omega\", \"alpha[1]\", \"beta[1]\"]\n",
    "\n",
    "# Check model parameters\n",
    "model_coop.model.summary()\n",
    "\n"
   ]
  },
  {
   "cell_type": "markdown",
   "id": "99f35514-a188-43e1-bf14-250af6e6824e",
   "metadata": {},
   "source": [
    "Create a predict_volatility method for the GarchModel class using the code from the garch-models module add the clean_prediction function as a helper method to clean the dictionary"
   ]
  },
  {
   "cell_type": "code",
   "execution_count": 19,
   "id": "092e017f-4461-4352-856c-7b08bd0d373e",
   "metadata": {
    "tags": []
   },
   "outputs": [
    {
     "data": {
      "text/plain": [
       "{'2023-03-02T00:00:00': 1.9023773750112967,\n",
       " '2023-03-03T00:00:00': 1.939101491114852,\n",
       " '2023-03-06T00:00:00': 1.9744799057687676,\n",
       " '2023-03-07T00:00:00': 2.0085958278144056,\n",
       " '2023-03-08T00:00:00': 2.041524234621052}"
      ]
     },
     "execution_count": 19,
     "metadata": {},
     "output_type": "execute_result"
    }
   ],
   "source": [
    "# Generate prediction from `model_coop`\n",
    "prediction = model_coop.predict_volatility(horizon=5)\n",
    "\n",
    "# Is prediction a dictionary?\n",
    "assert isinstance(prediction, dict)\n",
    "\n",
    "# Are keys correct data type?\n",
    "assert all(isinstance(k, str) for k in prediction.keys())\n",
    "\n",
    "# Are values correct data type?\n",
    "assert all(isinstance(v, float) for v in prediction.values())\n",
    "\n",
    "prediction"
   ]
  },
  {
   "cell_type": "markdown",
   "id": "b2f0ae3d-fb6f-4281-b067-2d93f7df5484",
   "metadata": {},
   "source": [
    "Add two more methods to the GarchModel to save a trained model and load it up when needed"
   ]
  },
  {
   "cell_type": "code",
   "execution_count": 20,
   "id": "6b2900c7-8110-4667-b669-936156e4e48b",
   "metadata": {
    "tags": []
   },
   "outputs": [
    {
     "data": {
      "text/plain": [
       "'models/2023-03-02T03:52:23.627654_COOP.pkl'"
      ]
     },
     "execution_count": 20,
     "metadata": {},
     "output_type": "execute_result"
    }
   ],
   "source": [
    "# Save `model_coop` model, assign filename\n",
    "filename = model_coop.dump()\n",
    "\n",
    "# Is `filename` a string?\n",
    "assert isinstance(filename, str)\n",
    "\n",
    "# Does filename include ticker symbol?\n",
    "assert model_coop.ticker in filename\n",
    "\n",
    "# Does file exist?\n",
    "assert os.path.exists(filename)\n",
    "\n",
    "filename"
   ]
  },
  {
   "cell_type": "code",
   "execution_count": 21,
   "id": "16c02b21-4cb9-4262-8e48-1d33189406a0",
   "metadata": {
    "tags": []
   },
   "outputs": [],
   "source": [
    "#Create a load function below that will take a ticker symbol as input and return a model. \n",
    "def load(ticker):\n",
    "\n",
    "    \"\"\"Load latest model from model directory.\n",
    "\n",
    "    Parameters\n",
    "    ----------\n",
    "    ticker : str\n",
    "        Ticker symbol for which model was trained.\n",
    "\n",
    "    Returns\n",
    "    -------\n",
    "    `ARCHModelResult`\n",
    "    \"\"\"\n",
    "    # Create pattern for glob search\n",
    "    pattern = pattern = os.path.join(settings.model_directory, f\"*{ticker}.pkl\")\n",
    "\n",
    "\n",
    "    # Try to find path of latest model\n",
    "    try:\n",
    "        model_path = model_path=sorted(glob(pattern))[-1]\n",
    "   \n",
    "    # Handle possible `IndexError`\n",
    "    except IndexError:\n",
    "        raise Exception(f\"No model trained for '{ticker}'.\")\n",
    "\n",
    "\n",
    "    # Load model\n",
    "    model = joblib.load(model_path)\n",
    "\n",
    "    # Return model\n",
    "    return model"
   ]
  },
  {
   "cell_type": "code",
   "execution_count": 22,
   "id": "30415b10-5ece-49ef-b9fb-3c6d63b9a79b",
   "metadata": {
    "tags": []
   },
   "outputs": [
    {
     "data": {
      "text/html": [
       "<table class=\"simpletable\">\n",
       "<caption>Constant Mean - GARCH Model Results</caption>\n",
       "<tr>\n",
       "  <th>Dep. Variable:</th>       <td>return</td>       <th>  R-squared:         </th>  <td>   0.000</td> \n",
       "</tr>\n",
       "<tr>\n",
       "  <th>Mean Model:</th>       <td>Constant Mean</td>   <th>  Adj. R-squared:    </th>  <td>   0.000</td> \n",
       "</tr>\n",
       "<tr>\n",
       "  <th>Vol Model:</th>            <td>GARCH</td>       <th>  Log-Likelihood:    </th> <td>  -2418.18</td>\n",
       "</tr>\n",
       "<tr>\n",
       "  <th>Distribution:</th>        <td>Normal</td>       <th>  AIC:               </th> <td>   4844.36</td>\n",
       "</tr>\n",
       "<tr>\n",
       "  <th>Method:</th>        <td>Maximum Likelihood</td> <th>  BIC:               </th> <td>   4863.99</td>\n",
       "</tr>\n",
       "<tr>\n",
       "  <th></th>                        <td></td>          <th>  No. Observations:  </th>    <td>1000</td>   \n",
       "</tr>\n",
       "<tr>\n",
       "  <th>Date:</th>           <td>Thu, Mar 02 2023</td>  <th>  Df Residuals:      </th>     <td>999</td>   \n",
       "</tr>\n",
       "<tr>\n",
       "  <th>Time:</th>               <td>03:52:23</td>      <th>  Df Model:          </th>      <td>1</td>    \n",
       "</tr>\n",
       "</table>\n",
       "<table class=\"simpletable\">\n",
       "<caption>Mean Model</caption>\n",
       "<tr>\n",
       "   <td></td>     <th>coef</th>     <th>std err</th>      <th>t</th>       <th>P>|t|</th>    <th>95.0% Conf. Int.</th>  \n",
       "</tr>\n",
       "<tr>\n",
       "  <th>mu</th> <td>    0.1654</td> <td>8.077e-02</td> <td>    2.048</td> <td>4.061e-02</td> <td>[7.072e-03,  0.324]</td>\n",
       "</tr>\n",
       "</table>\n",
       "<table class=\"simpletable\">\n",
       "<caption>Volatility Model</caption>\n",
       "<tr>\n",
       "      <td></td>        <th>coef</th>     <th>std err</th>      <th>t</th>       <th>P>|t|</th>    <th>95.0% Conf. Int.</th>  \n",
       "</tr>\n",
       "<tr>\n",
       "  <th>omega</th>    <td>    0.2083</td> <td>    0.165</td> <td>    1.261</td> <td>    0.207</td>  <td>[ -0.115,  0.532]</td> \n",
       "</tr>\n",
       "<tr>\n",
       "  <th>alpha[1]</th> <td>    0.1052</td> <td>4.697e-02</td> <td>    2.240</td> <td>2.512e-02</td> <td>[1.313e-02,  0.197]</td>\n",
       "</tr>\n",
       "<tr>\n",
       "  <th>beta[1]</th>  <td>    0.8762</td> <td>5.134e-02</td> <td>   17.069</td> <td>2.537e-65</td>  <td>[  0.776,  0.977]</td> \n",
       "</tr>\n",
       "</table><br/><br/>Covariance estimator: robust"
      ],
      "text/plain": [
       "<class 'statsmodels.iolib.summary.Summary'>\n",
       "\"\"\"\n",
       "                     Constant Mean - GARCH Model Results                      \n",
       "==============================================================================\n",
       "Dep. Variable:                 return   R-squared:                       0.000\n",
       "Mean Model:             Constant Mean   Adj. R-squared:                  0.000\n",
       "Vol Model:                      GARCH   Log-Likelihood:               -2418.18\n",
       "Distribution:                  Normal   AIC:                           4844.36\n",
       "Method:            Maximum Likelihood   BIC:                           4863.99\n",
       "                                        No. Observations:                 1000\n",
       "Date:                Thu, Mar 02 2023   Df Residuals:                      999\n",
       "Time:                        03:52:23   Df Model:                            1\n",
       "                                Mean Model                                \n",
       "==========================================================================\n",
       "                 coef    std err          t      P>|t|    95.0% Conf. Int.\n",
       "--------------------------------------------------------------------------\n",
       "mu             0.1654  8.077e-02      2.048  4.061e-02 [7.072e-03,  0.324]\n",
       "                             Volatility Model                             \n",
       "==========================================================================\n",
       "                 coef    std err          t      P>|t|    95.0% Conf. Int.\n",
       "--------------------------------------------------------------------------\n",
       "omega          0.2083      0.165      1.261      0.207   [ -0.115,  0.532]\n",
       "alpha[1]       0.1052  4.697e-02      2.240  2.512e-02 [1.313e-02,  0.197]\n",
       "beta[1]        0.8762  5.134e-02     17.069  2.537e-65   [  0.776,  0.977]\n",
       "==========================================================================\n",
       "\n",
       "Covariance estimator: robust\n",
       "\"\"\""
      ]
     },
     "execution_count": 22,
     "metadata": {},
     "output_type": "execute_result"
    }
   ],
   "source": [
    "#Load  model_coop \n",
    "# Assign load output to `model`\n",
    "model_coop = load(ticker=\"COOP\")\n",
    "\n",
    "# Does function return an `ARCHModelResult`\n",
    "assert isinstance(model_coop, ARCHModelResult)\n",
    "\n",
    "# Check model parameters\n",
    "model_coop.summary()"
   ]
  },
  {
   "cell_type": "code",
   "execution_count": 23,
   "id": "83548e40-b36a-433b-abd0-38e54622bb4e",
   "metadata": {
    "tags": []
   },
   "outputs": [
    {
     "data": {
      "text/html": [
       "<table class=\"simpletable\">\n",
       "<caption>Constant Mean - GARCH Model Results</caption>\n",
       "<tr>\n",
       "  <th>Dep. Variable:</th>       <td>return</td>       <th>  R-squared:         </th>  <td>   0.000</td> \n",
       "</tr>\n",
       "<tr>\n",
       "  <th>Mean Model:</th>       <td>Constant Mean</td>   <th>  Adj. R-squared:    </th>  <td>   0.000</td> \n",
       "</tr>\n",
       "<tr>\n",
       "  <th>Vol Model:</th>            <td>GARCH</td>       <th>  Log-Likelihood:    </th> <td>  -2418.18</td>\n",
       "</tr>\n",
       "<tr>\n",
       "  <th>Distribution:</th>        <td>Normal</td>       <th>  AIC:               </th> <td>   4844.36</td>\n",
       "</tr>\n",
       "<tr>\n",
       "  <th>Method:</th>        <td>Maximum Likelihood</td> <th>  BIC:               </th> <td>   4863.99</td>\n",
       "</tr>\n",
       "<tr>\n",
       "  <th></th>                        <td></td>          <th>  No. Observations:  </th>    <td>1000</td>   \n",
       "</tr>\n",
       "<tr>\n",
       "  <th>Date:</th>           <td>Thu, Mar 02 2023</td>  <th>  Df Residuals:      </th>     <td>999</td>   \n",
       "</tr>\n",
       "<tr>\n",
       "  <th>Time:</th>               <td>03:52:23</td>      <th>  Df Model:          </th>      <td>1</td>    \n",
       "</tr>\n",
       "</table>\n",
       "<table class=\"simpletable\">\n",
       "<caption>Mean Model</caption>\n",
       "<tr>\n",
       "   <td></td>     <th>coef</th>     <th>std err</th>      <th>t</th>       <th>P>|t|</th>    <th>95.0% Conf. Int.</th>  \n",
       "</tr>\n",
       "<tr>\n",
       "  <th>mu</th> <td>    0.1654</td> <td>8.077e-02</td> <td>    2.048</td> <td>4.061e-02</td> <td>[7.072e-03,  0.324]</td>\n",
       "</tr>\n",
       "</table>\n",
       "<table class=\"simpletable\">\n",
       "<caption>Volatility Model</caption>\n",
       "<tr>\n",
       "      <td></td>        <th>coef</th>     <th>std err</th>      <th>t</th>       <th>P>|t|</th>    <th>95.0% Conf. Int.</th>  \n",
       "</tr>\n",
       "<tr>\n",
       "  <th>omega</th>    <td>    0.2083</td> <td>    0.165</td> <td>    1.261</td> <td>    0.207</td>  <td>[ -0.115,  0.532]</td> \n",
       "</tr>\n",
       "<tr>\n",
       "  <th>alpha[1]</th> <td>    0.1052</td> <td>4.697e-02</td> <td>    2.240</td> <td>2.512e-02</td> <td>[1.313e-02,  0.197]</td>\n",
       "</tr>\n",
       "<tr>\n",
       "  <th>beta[1]</th>  <td>    0.8762</td> <td>5.134e-02</td> <td>   17.069</td> <td>2.537e-65</td>  <td>[  0.776,  0.977]</td> \n",
       "</tr>\n",
       "</table><br/><br/>Covariance estimator: robust"
      ],
      "text/plain": [
       "<class 'statsmodels.iolib.summary.Summary'>\n",
       "\"\"\"\n",
       "                     Constant Mean - GARCH Model Results                      \n",
       "==============================================================================\n",
       "Dep. Variable:                 return   R-squared:                       0.000\n",
       "Mean Model:             Constant Mean   Adj. R-squared:                  0.000\n",
       "Vol Model:                      GARCH   Log-Likelihood:               -2418.18\n",
       "Distribution:                  Normal   AIC:                           4844.36\n",
       "Method:            Maximum Likelihood   BIC:                           4863.99\n",
       "                                        No. Observations:                 1000\n",
       "Date:                Thu, Mar 02 2023   Df Residuals:                      999\n",
       "Time:                        03:52:23   Df Model:                            1\n",
       "                                Mean Model                                \n",
       "==========================================================================\n",
       "                 coef    std err          t      P>|t|    95.0% Conf. Int.\n",
       "--------------------------------------------------------------------------\n",
       "mu             0.1654  8.077e-02      2.048  4.061e-02 [7.072e-03,  0.324]\n",
       "                             Volatility Model                             \n",
       "==========================================================================\n",
       "                 coef    std err          t      P>|t|    95.0% Conf. Int.\n",
       "--------------------------------------------------------------------------\n",
       "omega          0.2083      0.165      1.261      0.207   [ -0.115,  0.532]\n",
       "alpha[1]       0.1052  4.697e-02      2.240  2.512e-02 [1.313e-02,  0.197]\n",
       "beta[1]        0.8762  5.134e-02     17.069  2.537e-65   [  0.776,  0.977]\n",
       "==========================================================================\n",
       "\n",
       "Covariance estimator: robust\n",
       "\"\"\""
      ]
     },
     "execution_count": 23,
     "metadata": {},
     "output_type": "execute_result"
    }
   ],
   "source": [
    " #Transform your load function into a method for the GarchModel class then test the method using assert statements\n",
    "\n",
    "model_coop = GarchModel(ticker=\"COOP\", repo=repo, use_new_data=False)\n",
    "\n",
    "# Check that new `model_coop_test` doesn't have model attached\n",
    "assert not hasattr(model_coop, \"model\")\n",
    "\n",
    "# Load model\n",
    "model_coop.load()\n",
    "\n",
    "# Does `model_coop_test` have model attached?\n",
    "assert hasattr(model_coop, \"model\")\n",
    "\n",
    "model_coop.model.summary()"
   ]
  },
  {
   "cell_type": "markdown",
   "id": "30fe5a3c-714d-468b-ae9c-f0f38b0082ba",
   "metadata": {},
   "source": [
    "This marks the end of the model module"
   ]
  },
  {
   "cell_type": "markdown",
   "id": "dd8c5c95-4295-45e4-a9f1-f1f8e62218e8",
   "metadata": {
    "tags": []
   },
   "source": [
    "4.2. Main Module"
   ]
  },
  {
   "cell_type": "markdown",
   "id": "188f0d0a-17f1-4014-bd07-8dd246ed167d",
   "metadata": {
    "tags": []
   },
   "source": [
    "First step, create an app object"
   ]
  },
  {
   "cell_type": "markdown",
   "id": "74ba6bd9-5db7-4e16-ae40-80b6334ddf39",
   "metadata": {},
   "source": [
    "The app will be FastAPI application"
   ]
  },
  {
   "cell_type": "markdown",
   "id": "0097bd24-9bde-4703-8842-a98a59cada74",
   "metadata": {
    "tags": []
   },
   "source": [
    "In the main module, instantiate a FastAPI application named app."
   ]
  },
  {
   "cell_type": "raw",
   "id": "9574a3ee-981d-4b23-a605-d6e16f4208f1",
   "metadata": {},
   "source": [
    "Run the app on a server in order for it to work.In this case the server on the virtual machine using the uvicorn library"
   ]
  },
  {
   "cell_type": "raw",
   "id": "e0d31371-fea3-43aa-9966-4de2a6d3784e",
   "metadata": {},
   "source": [
    "Start your app server by running the command: uvicorn main:app --reload --workers 1 --host localhost --port 8008"
   ]
  },
  {
   "cell_type": "markdown",
   "id": "fd98a13c-0a64-410f-936b-4ccff052ffd4",
   "metadata": {},
   "source": [
    " The \"/fit\" Path"
   ]
  },
  {
   "cell_type": "markdown",
   "id": "7412f635-4533-4f1a-aa66-eab4fdf2377a",
   "metadata": {
    "tags": []
   },
   "source": [
    "The first path will allow the user to fit a model to stock data when they make a post request to our server. They'll have the choice to use new data from AlphaVantage, or older data that's already in our database. When a user makes a request, they'll receive a response telling them if the operation was successful or whether there was an error.Use the pydantic library to check that each request has the correct parameters and data types by using special data classes that we need to define. Our \"/fit\" path will take user input and then output a response, so we need two classes: one for input and one for output."
   ]
  },
  {
   "cell_type": "markdown",
   "id": "4b3db18b-80ba-415f-a6cb-063296bd0997",
   "metadata": {},
   "source": [
    " Create definitions for a FitIn and a FitOut data class. The FitIn class inherits from the pydantic BaseClass, and the FitOut class inherits from the FitIn class"
   ]
  },
  {
   "cell_type": "code",
   "execution_count": 24,
   "id": "5117f266-2742-4184-be12-c5e7f12410d4",
   "metadata": {
    "tags": []
   },
   "outputs": [
    {
     "name": "stdout",
     "output_type": "stream",
     "text": [
      "ticker='EQTY' use_new_data=True n_observations=2000 p=1 q=1\n",
      "ticker='EQTY' use_new_data=True n_observations=2000 p=1 q=1 success=True message='Method is ready to rock!'\n"
     ]
    }
   ],
   "source": [
    "#Experimenting with the FitIn and FitOut classes\n",
    "from main import FitIn, FitOut\n",
    "\n",
    "# Instantiate `FitIn`. Play with parameters.\n",
    "fi = FitIn(\n",
    "    ticker=\"EQTY\",\n",
    "    use_new_data= True,\n",
    "    n_observations= 2000,\n",
    "    p=1,\n",
    "    q=1\n",
    ")\n",
    "\n",
    "print(fi)\n",
    "\n",
    "# Instantiate `FitOut`. Play with parameters.\n",
    "fo = FitOut(\n",
    "    ticker=\"EQTY\",\n",
    "    use_new_data= True,\n",
    "    n_observations= 2000,\n",
    "    p=1,\n",
    "    q=1,\n",
    "    success= True,\n",
    "    message=\"Method is ready to rock!\"\n",
    ")\n",
    "print(fo)"
   ]
  },
  {
   "cell_type": "code",
   "execution_count": 25,
   "id": "4e6f0b2e-7a32-4ab8-9772-294af9a72464",
   "metadata": {
    "tags": []
   },
   "outputs": [
    {
     "data": {
      "text/plain": [
       "<model.GarchModel at 0x7f6cf6426800>"
      ]
     },
     "execution_count": 25,
     "metadata": {},
     "output_type": "execute_result"
    }
   ],
   "source": [
    "#Create a build_model function in the main module\n",
    "from main import build_model\n",
    "\n",
    "# Instantiate `GarchModel` with function\n",
    "model_cic = build_model(ticker=\"CIC\", use_new_data=False)\n",
    "\n",
    "# Is `SQLRepository` attached to `model_cic`?\n",
    "assert isinstance(model_cic.repo, SQLRepository)\n",
    "\n",
    "# Is SQLite database attached to `SQLRepository`\n",
    "assert isinstance(model_cic.repo.connection, sqlite3.Connection)\n",
    "\n",
    "# Is `ticker` attribute correct?\n",
    "assert model_cic.ticker == \"CIC\"\n",
    "\n",
    "# Is `use_new_data` attribute correct?\n",
    "assert not model_cic.use_new_data\n",
    "\n",
    "model_cic"
   ]
  },
  {
   "cell_type": "markdown",
   "id": "f119b664-c0c7-40da-991d-1f66f4001664",
   "metadata": {},
   "source": [
    "Create a \"/fit\" path for the app. It will take a FitIn object as input, and then build a GarchModel using the build_model function. The model will wrangle the needed data, fit to the data, and save the completed model. Finally, it will send a response in the form of a FitOut object. while at the same time handle any errors that may arise using the exceptions set and the pydantic Base Class"
   ]
  },
  {
   "cell_type": "markdown",
   "id": "3fc89d24-dae6-495e-b1e9-4b17e464275c",
   "metadata": {},
   "source": [
    "Create a post request to hit the \"/fit\" path running at \"http://localhost:8008\". Train a GARCH(1,1) model on 2000 observations of the CIC data already downloaded. Pass in the parameters as a dictionary using the json argument."
   ]
  },
  {
   "cell_type": "code",
   "execution_count": 26,
   "id": "bff850bb-bcac-4e3d-b71a-a4d5c836f351",
   "metadata": {
    "tags": []
   },
   "outputs": [
    {
     "name": "stdout",
     "output_type": "stream",
     "text": [
      "response code: 200\n"
     ]
    },
    {
     "data": {
      "text/plain": [
       "{'ticker': 'CIC',\n",
       " 'use_new_data': True,\n",
       " 'n_observations': 2000,\n",
       " 'p': 1,\n",
       " 'q': 1,\n",
       " 'success': True,\n",
       " 'message': \"trained and saved 'models/2023-03-02T03:52:25.191594_CIC.pkl'.Metrics: AIC 5201.2553, BIC 5222.0956.\"}"
      ]
     },
     "execution_count": 26,
     "metadata": {},
     "output_type": "execute_result"
    }
   ],
   "source": [
    "# URL of `/fit` path\n",
    "url = \"http://localhost:8008/fit\"\n",
    "\n",
    "# Data to send to path\n",
    "json = {\n",
    "    \"ticker\" : \"CIC\",\n",
    "    \"use_new_data\": True,\n",
    "    \"n_observations\": 2000,\n",
    "    \"p\":1,\n",
    "    \"q\":1\n",
    "    \n",
    "}\n",
    "# Response of post request\n",
    "response = requests.post(url=url, json=json)\n",
    "# Inspect response\n",
    "print(\"response code:\", response.status_code)\n",
    "response.json()"
   ]
  },
  {
   "cell_type": "markdown",
   "id": "ea6bd122-6fc2-4864-bf21-e9a7cb6c91c2",
   "metadata": {
    "tags": []
   },
   "source": [
    "Now we can train models using the API we created."
   ]
  },
  {
   "cell_type": "markdown",
   "id": "fb0c6870-8c7a-41ae-955c-410f5bea6807",
   "metadata": {},
   "source": [
    "The \"/predict\" Path"
   ]
  },
  {
   "cell_type": "markdown",
   "id": "b5cc2ebd-086e-4ab7-b40a-85c3e354d94f",
   "metadata": {},
   "source": [
    "For the \"/predict\" path, users will be able to make a post request with the ticker symbol they want a prediction for and the number of days they want to forecast into the future. The app will return a forecast or, if there's an error, a message explaining the problem."
   ]
  },
  {
   "cell_type": "markdown",
   "id": "7763977f-5be9-4114-ac41-b1f1033fbc6a",
   "metadata": {},
   "source": [
    "Create definitions for the PredictIn and PredictOut data class. The PredictIn class inherits from the pydantic BaseModel, and the PredictOut class inherits from the PredictIn class. test your classes."
   ]
  },
  {
   "cell_type": "code",
   "execution_count": 27,
   "id": "fc45a26f-a03b-4c3e-875a-fcdca891fe13",
   "metadata": {
    "tags": []
   },
   "outputs": [
    {
     "name": "stdout",
     "output_type": "stream",
     "text": [
      "ticker='DTK' n_days=5\n",
      "ticker='DTK' n_days=5 success=True forecast={} message='success'\n"
     ]
    }
   ],
   "source": [
    "#Test the classes\n",
    "from main import PredictIn, PredictOut\n",
    "\n",
    "pi = PredictIn(ticker=\"DTK\", n_days=5)\n",
    "print(pi)\n",
    "\n",
    "po = PredictOut(\n",
    "    ticker=\"DTK\", n_days=5, success=True, forecast={}, message=\"success\"\n",
    ")\n",
    "print(po)"
   ]
  },
  {
   "cell_type": "markdown",
   "id": "1f42f380-e5c6-4fb6-930e-9647dff0f69e",
   "metadata": {},
   "source": [
    "Create a \"/predict\" path for the app. It takes a PredictIn object as input, build a GarchModel, load the most recent trained model for the given ticker, and generate a dictionary of predictions. It then returns a PredictOut object with the predictions included. It includes Exceptions to handle any errors that may arise."
   ]
  },
  {
   "cell_type": "markdown",
   "id": "66916e17-5d61-44e8-aeb4-e545e8ae35ab",
   "metadata": {},
   "source": [
    "Create a post request to hit the \"/predict\" path running at \"http://localhost:8008\". Get the 5-day volatility forecast for CIC. "
   ]
  },
  {
   "cell_type": "code",
   "execution_count": 28,
   "id": "39aae22a-59b0-471f-9ef0-28e894436a0a",
   "metadata": {
    "tags": []
   },
   "outputs": [
    {
     "data": {
      "text/plain": [
       "{'ticker': 'CIC',\n",
       " 'n_days': 3,\n",
       " 'success': True,\n",
       " 'forecast': {'2023-03-02T00:00:00': 1.7804907255485452,\n",
       "  '2023-03-03T00:00:00': 1.7808601360578307,\n",
       "  '2023-03-06T00:00:00': 1.7812294691345432},\n",
       " 'message': 'Done'}"
      ]
     },
     "execution_count": 28,
     "metadata": {},
     "output_type": "execute_result"
    }
   ],
   "source": [
    "# URL of `/predict` path\n",
    "url = \"http://localhost:8008/predict\"\n",
    "# Data to send to path\n",
    "json = {\"ticker\": \"CIC\",\"n_days\":3}\n",
    "# Response of post request\n",
    "response = requests.post(url=url, json=json)\n",
    "# Response JSON to be submitted to grader\n",
    "submission = response.json()\n",
    "# Inspect JSON\n",
    "submission"
   ]
  },
  {
   "cell_type": "code",
   "execution_count": null,
   "id": "651f7366-eef6-4f44-9669-4b427c93dafe",
   "metadata": {},
   "outputs": [],
   "source": []
  }
 ],
 "metadata": {
  "kernelspec": {
   "display_name": "Python 3 (ipykernel)",
   "language": "python",
   "name": "python3"
  },
  "language_info": {
   "codemirror_mode": {
    "name": "ipython",
    "version": 3
   },
   "file_extension": ".py",
   "mimetype": "text/x-python",
   "name": "python",
   "nbconvert_exporter": "python",
   "pygments_lexer": "ipython3",
   "version": "3.10.4"
  }
 },
 "nbformat": 4,
 "nbformat_minor": 5
}
