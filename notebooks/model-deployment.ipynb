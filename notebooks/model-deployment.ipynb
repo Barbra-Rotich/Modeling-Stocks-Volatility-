{
 "cells": [
  {
   "cell_type": "markdown",
   "id": "9d11da5f-32db-4c07-a2e9-dfe0ea817008",
   "metadata": {},
   "source": [
    "4. MODEL DEPLOYMENT\n",
    "\n",
    "We have a module for getting and storing our data. We have the code to train our model and clean its predictions. We put all this pieces  together and deploy our model with an API that others can use to train their own models and predict volatility. We'll start by creating a model for all the code we created in the last lesson. Then we'll complete our main module, which will hold our FastAPI application with two paths: one for model training and one for prediction.\n"
   ]
  },
  {
   "cell_type": "code",
   "execution_count": 16,
   "id": "f5bffdb4-2d73-41a1-b477-a70cfbb440c2",
   "metadata": {
    "tags": []
   },
   "outputs": [
    {
     "name": "stdout",
     "output_type": "stream",
     "text": [
      "The autoreload extension is already loaded. To reload it, use:\n",
      "  %reload_ext autoreload\n"
     ]
    }
   ],
   "source": [
    "%load_ext autoreload\n",
    "%autoreload 2\n",
    "\n",
    "import os\n",
    "import sqlite3\n",
    "from glob import glob\n",
    "import warnings\n",
    "\n",
    "import joblib\n",
    "import pandas as pd\n",
    "import requests\n",
    "from arch.univariate.base import ARCHModelResult\n",
    "from config import settings\n",
    "from data import SQLRepository\n",
    "warnings.simplefilter(action=\"ignore\", category=FutureWarning)"
   ]
  },
  {
   "cell_type": "markdown",
   "id": "02b67c21-5673-4361-8fb0-a6f71367fbaa",
   "metadata": {},
   "source": [
    "4.1 Model Module\n",
    "\n",
    "We will create a model module to make our code  reusable\n",
    "Start by instantiating a repository to be used for testing our module as we build."
   ]
  },
  {
   "cell_type": "code",
   "execution_count": 17,
   "id": "6bb850b7-274e-4d95-857c-042e58a51bdb",
   "metadata": {
    "tags": []
   },
   "outputs": [
    {
     "name": "stdout",
     "output_type": "stream",
     "text": [
      "repo type: <class 'data.SQLRepository'>\n",
      "repo.connection type: <class 'sqlite3.Connection'>\n"
     ]
    }
   ],
   "source": [
    "#Create a SQLRepository named repo and attach it to a SQLite connection.\n",
    "connection = sqlite3.connect(settings.db_name, check_same_thread=False)\n",
    "repo = SQLRepository(connection=connection)\n",
    "\n",
    "print(\"repo type:\", type(repo))\n",
    "print(\"repo.connection type:\", type(repo.connection))"
   ]
  },
  {
   "cell_type": "markdown",
   "id": "5ad78c9e-0602-4f28-bd1e-e24d7e44c74e",
   "metadata": {},
   "source": [
    "In the model module, create a definition for a GarchModel model class. Use __init__ method. "
   ]
  },
  {
   "cell_type": "code",
   "execution_count": 18,
   "id": "7014ec74-185f-47df-8121-45d4746d0b91",
   "metadata": {
    "tags": []
   },
   "outputs": [],
   "source": [
    "#Test your class using the assert statements\n",
    "from model import GarchModel\n",
    "\n",
    "# Instantiate a `GarchModel`\n",
    "gm_cic = GarchModel(ticker=\"CIC\", repo=repo, use_new_data=False)\n",
    "\n",
    "# Does `gm_ambuja` have the correct attributes?\n",
    "assert gm_cic.ticker == \"CIC\"\n",
    "assert gm_cic.repo == repo\n",
    "assert not gm_cic.use_new_data\n",
    "assert gm_cic.model_directory == settings.model_directory"
   ]
  },
  {
   "cell_type": "markdown",
   "id": "e17c692c-e27e-4664-944a-5af945f088d8",
   "metadata": {},
   "source": [
    "Turn your wrangle_data function a method for the GarchModel class.\n"
   ]
  },
  {
   "cell_type": "code",
   "execution_count": 19,
   "id": "a2f261da-31dc-4611-b45f-63e4426a9bb4",
   "metadata": {
    "tags": []
   },
   "outputs": [
    {
     "data": {
      "text/plain": [
       "date\n",
       "2017-12-28    3.458065\n",
       "2017-12-29    5.899227\n",
       "2018-01-02    0.482864\n",
       "2018-01-03   -2.461322\n",
       "2018-01-04   -2.162942\n",
       "Name: return, dtype: float64"
      ]
     },
     "execution_count": 19,
     "metadata": {},
     "output_type": "execute_result"
    }
   ],
   "source": [
    "#Use the assert statements below to test the method by getting and wrangling data for Co-operative  Bank\n",
    "\n",
    "# Instantiate `GarchModel`, use new data\n",
    "model_coop = GarchModel(ticker=\"COOP\", repo=repo, use_new_data=True)\n",
    "\n",
    "# Check that model doesn't have `data` attribute yet\n",
    "assert not hasattr(model_coop, \"data\")\n",
    "\n",
    "# Wrangle data\n",
    "model_coop.wrangle_data(n_observations=1300)\n",
    "\n",
    "# Does model now have `data` attribute?\n",
    "assert hasattr(model_coop, \"data\")\n",
    "\n",
    "# Is the `data` a Series?\n",
    "assert isinstance(model_coop.data, pd.Series)\n",
    "\n",
    "# Is Series correct shape?\n",
    "assert model_coop.data.shape == (1300,)\n",
    "\n",
    "model_coop.data.head()"
   ]
  },
  {
   "cell_type": "markdown",
   "id": "6fcd90c0-af54-4231-b41e-20bcddcc2b83",
   "metadata": {
    "tags": []
   },
   "source": [
    "Use the previous code for creating garch model to create a fit method for the GarchModel class"
   ]
  },
  {
   "cell_type": "code",
   "execution_count": 20,
   "id": "1be63d36-4fb1-42fe-865e-1ef7983b900b",
   "metadata": {
    "tags": []
   },
   "outputs": [
    {
     "data": {
      "text/html": [
       "<table class=\"simpletable\">\n",
       "<caption>Constant Mean - GARCH Model Results</caption>\n",
       "<tr>\n",
       "  <th>Dep. Variable:</th>       <td>return</td>       <th>  R-squared:         </th>  <td>   0.000</td> \n",
       "</tr>\n",
       "<tr>\n",
       "  <th>Mean Model:</th>       <td>Constant Mean</td>   <th>  Adj. R-squared:    </th>  <td>   0.000</td> \n",
       "</tr>\n",
       "<tr>\n",
       "  <th>Vol Model:</th>            <td>GARCH</td>       <th>  Log-Likelihood:    </th> <td>  -2419.21</td>\n",
       "</tr>\n",
       "<tr>\n",
       "  <th>Distribution:</th>        <td>Normal</td>       <th>  AIC:               </th> <td>   4846.42</td>\n",
       "</tr>\n",
       "<tr>\n",
       "  <th>Method:</th>        <td>Maximum Likelihood</td> <th>  BIC:               </th> <td>   4866.05</td>\n",
       "</tr>\n",
       "<tr>\n",
       "  <th></th>                        <td></td>          <th>  No. Observations:  </th>    <td>1000</td>   \n",
       "</tr>\n",
       "<tr>\n",
       "  <th>Date:</th>           <td>Wed, Mar 01 2023</td>  <th>  Df Residuals:      </th>     <td>999</td>   \n",
       "</tr>\n",
       "<tr>\n",
       "  <th>Time:</th>               <td>15:22:38</td>      <th>  Df Model:          </th>      <td>1</td>    \n",
       "</tr>\n",
       "</table>\n",
       "<table class=\"simpletable\">\n",
       "<caption>Mean Model</caption>\n",
       "<tr>\n",
       "   <td></td>     <th>coef</th>     <th>std err</th>      <th>t</th>       <th>P>|t|</th>    <th>95.0% Conf. Int.</th>  \n",
       "</tr>\n",
       "<tr>\n",
       "  <th>mu</th> <td>    0.1646</td> <td>8.049e-02</td> <td>    2.045</td> <td>4.089e-02</td> <td>[6.818e-03,  0.322]</td>\n",
       "</tr>\n",
       "</table>\n",
       "<table class=\"simpletable\">\n",
       "<caption>Volatility Model</caption>\n",
       "<tr>\n",
       "      <td></td>        <th>coef</th>     <th>std err</th>      <th>t</th>       <th>P>|t|</th>    <th>95.0% Conf. Int.</th>  \n",
       "</tr>\n",
       "<tr>\n",
       "  <th>omega</th>    <td>    0.2077</td> <td>    0.166</td> <td>    1.254</td> <td>    0.210</td>  <td>[ -0.117,  0.532]</td> \n",
       "</tr>\n",
       "<tr>\n",
       "  <th>alpha[1]</th> <td>    0.1045</td> <td>4.677e-02</td> <td>    2.234</td> <td>2.545e-02</td> <td>[1.284e-02,  0.196]</td>\n",
       "</tr>\n",
       "<tr>\n",
       "  <th>beta[1]</th>  <td>    0.8771</td> <td>5.123e-02</td> <td>   17.120</td> <td>1.059e-65</td>  <td>[  0.777,  0.977]</td> \n",
       "</tr>\n",
       "</table><br/><br/>Covariance estimator: robust"
      ],
      "text/plain": [
       "<class 'statsmodels.iolib.summary.Summary'>\n",
       "\"\"\"\n",
       "                     Constant Mean - GARCH Model Results                      \n",
       "==============================================================================\n",
       "Dep. Variable:                 return   R-squared:                       0.000\n",
       "Mean Model:             Constant Mean   Adj. R-squared:                  0.000\n",
       "Vol Model:                      GARCH   Log-Likelihood:               -2419.21\n",
       "Distribution:                  Normal   AIC:                           4846.42\n",
       "Method:            Maximum Likelihood   BIC:                           4866.05\n",
       "                                        No. Observations:                 1000\n",
       "Date:                Wed, Mar 01 2023   Df Residuals:                      999\n",
       "Time:                        15:22:38   Df Model:                            1\n",
       "                                Mean Model                                \n",
       "==========================================================================\n",
       "                 coef    std err          t      P>|t|    95.0% Conf. Int.\n",
       "--------------------------------------------------------------------------\n",
       "mu             0.1646  8.049e-02      2.045  4.089e-02 [6.818e-03,  0.322]\n",
       "                             Volatility Model                             \n",
       "==========================================================================\n",
       "                 coef    std err          t      P>|t|    95.0% Conf. Int.\n",
       "--------------------------------------------------------------------------\n",
       "omega          0.2077      0.166      1.254      0.210   [ -0.117,  0.532]\n",
       "alpha[1]       0.1045  4.677e-02      2.234  2.545e-02 [1.284e-02,  0.196]\n",
       "beta[1]        0.8771  5.123e-02     17.120  1.059e-65   [  0.777,  0.977]\n",
       "==========================================================================\n",
       "\n",
       "Covariance estimator: robust\n",
       "\"\"\""
      ]
     },
     "execution_count": 20,
     "metadata": {},
     "output_type": "execute_result"
    }
   ],
   "source": [
    "#Use the assert statements below to test the method\n",
    "\n",
    "# Instantiate `GarchModel`, use old data\n",
    "model_coop = GarchModel(ticker=\"COOP\", repo=repo, use_new_data=False)\n",
    "\n",
    "# Wrangle data\n",
    "model_coop.wrangle_data(n_observations=1000)\n",
    "\n",
    "# Fit GARCH(1,1) model to data\n",
    "model_coop.fit(p=1, q=1)\n",
    "\n",
    "# Does `model_shop` have a `model` attribute now?\n",
    "assert hasattr(model_coop, \"model\")\n",
    "\n",
    "# Is model correct data type?\n",
    "assert isinstance(model_coop.model, ARCHModelResult)\n",
    "\n",
    "# Does model have correct parameters?\n",
    "assert model_coop.model.params.index.tolist() == [\"mu\", \"omega\", \"alpha[1]\", \"beta[1]\"]\n",
    "\n",
    "# Check model parameters\n",
    "model_coop.model.summary()\n",
    "\n"
   ]
  },
  {
   "cell_type": "markdown",
   "id": "99f35514-a188-43e1-bf14-250af6e6824e",
   "metadata": {},
   "source": [
    "Create a predict_volatility method for your GarchModel class using the code from the garch-models module. The method will return predictions as a dictionary, therefore clean_prediction function will be added as a helper method. "
   ]
  },
  {
   "cell_type": "code",
   "execution_count": 21,
   "id": "092e017f-4461-4352-856c-7b08bd0d373e",
   "metadata": {
    "tags": []
   },
   "outputs": [
    {
     "data": {
      "text/plain": [
       "{'2023-03-01T00:00:00': 1.9633575128960912,\n",
       " '2023-03-02T00:00:00': 1.997867670868723,\n",
       " '2023-03-03T00:00:00': 2.031171641285121,\n",
       " '2023-03-06T00:00:00': 2.0633390844398547,\n",
       " '2023-03-07T00:00:00': 2.0944332487026647}"
      ]
     },
     "execution_count": 21,
     "metadata": {},
     "output_type": "execute_result"
    }
   ],
   "source": [
    "# Generate prediction from `model_shop`\n",
    "prediction = model_coop.predict_volatility(horizon=5)\n",
    "\n",
    "# Is prediction a dictionary?\n",
    "assert isinstance(prediction, dict)\n",
    "\n",
    "# Are keys correct data type?\n",
    "assert all(isinstance(k, str) for k in prediction.keys())\n",
    "\n",
    "# Are values correct data type?\n",
    "assert all(isinstance(v, float) for v in prediction.values())\n",
    "\n",
    "prediction"
   ]
  },
  {
   "cell_type": "markdown",
   "id": "b2f0ae3d-fb6f-4281-b067-2d93f7df5484",
   "metadata": {},
   "source": [
    "Add two more methods to the GarchModel to save a trained model and load it up when needed"
   ]
  },
  {
   "cell_type": "markdown",
   "id": "fe2d292b-1786-425b-bd8d-05fa9302d3b3",
   "metadata": {},
   "source": [
    "Use the joblib library and write the filepaths using the os library."
   ]
  },
  {
   "cell_type": "code",
   "execution_count": 23,
   "id": "d70ed9a0-7645-40bb-b38b-0903c3a188da",
   "metadata": {
    "tags": []
   },
   "outputs": [
    {
     "ename": "Exception",
     "evalue": "No model trained for 'SCOM'.",
     "output_type": "error",
     "traceback": [
      "\u001b[0;31m---------------------------------------------------------------------------\u001b[0m",
      "\u001b[0;31mIndexError\u001b[0m                                Traceback (most recent call last)",
      "Cell \u001b[0;32mIn[23], line 5\u001b[0m\n\u001b[1;32m      4\u001b[0m \u001b[38;5;28;01mtry\u001b[39;00m:\n\u001b[0;32m----> 5\u001b[0m     model_path\u001b[38;5;241m=\u001b[39m\u001b[38;5;28;43msorted\u001b[39;49m\u001b[43m(\u001b[49m\u001b[43mglob\u001b[49m\u001b[43m(\u001b[49m\u001b[43mpattern\u001b[49m\u001b[43m)\u001b[49m\u001b[43m)\u001b[49m\u001b[43m[\u001b[49m\u001b[38;5;241;43m-\u001b[39;49m\u001b[38;5;241;43m1\u001b[39;49m\u001b[43m]\u001b[49m\n\u001b[1;32m      6\u001b[0m \u001b[38;5;28;01mexcept\u001b[39;00m \u001b[38;5;167;01mIndexError\u001b[39;00m:\n",
      "\u001b[0;31mIndexError\u001b[0m: list index out of range",
      "\nDuring handling of the above exception, another exception occurred:\n",
      "\u001b[0;31mException\u001b[0m                                 Traceback (most recent call last)",
      "Cell \u001b[0;32mIn[23], line 7\u001b[0m\n\u001b[1;32m      5\u001b[0m     model_path\u001b[38;5;241m=\u001b[39m\u001b[38;5;28msorted\u001b[39m(glob(pattern))[\u001b[38;5;241m-\u001b[39m\u001b[38;5;241m1\u001b[39m]\n\u001b[1;32m      6\u001b[0m \u001b[38;5;28;01mexcept\u001b[39;00m \u001b[38;5;167;01mIndexError\u001b[39;00m:\n\u001b[0;32m----> 7\u001b[0m     \u001b[38;5;28;01mraise\u001b[39;00m \u001b[38;5;167;01mException\u001b[39;00m(\u001b[38;5;124mf\u001b[39m\u001b[38;5;124m\"\u001b[39m\u001b[38;5;124mNo model trained for \u001b[39m\u001b[38;5;124m'\u001b[39m\u001b[38;5;132;01m{\u001b[39;00mticker\u001b[38;5;132;01m}\u001b[39;00m\u001b[38;5;124m'\u001b[39m\u001b[38;5;124m.\u001b[39m\u001b[38;5;124m\"\u001b[39m)\n",
      "\u001b[0;31mException\u001b[0m: No model trained for 'SCOM'."
     ]
    }
   ],
   "source": [
    "ticker = \"SCOM\"\n",
    "pattern = os.path.join(settings.model_directory, f\"*{ticker}.pkl\")\n",
    "\n",
    "try:\n",
    "    model_path=sorted(glob(pattern))[-1]\n",
    "except IndexError:\n",
    "    raise Exception(f\"No model trained for '{ticker}'.\")"
   ]
  },
  {
   "cell_type": "code",
   "execution_count": null,
   "id": "3b261b72-95df-4525-a592-199fd6178642",
   "metadata": {},
   "outputs": [],
   "source": []
  }
 ],
 "metadata": {
  "kernelspec": {
   "display_name": "Python 3 (ipykernel)",
   "language": "python",
   "name": "python3"
  },
  "language_info": {
   "codemirror_mode": {
    "name": "ipython",
    "version": 3
   },
   "file_extension": ".py",
   "mimetype": "text/x-python",
   "name": "python",
   "nbconvert_exporter": "python",
   "pygments_lexer": "ipython3",
   "version": "3.10.4"
  }
 },
 "nbformat": 4,
 "nbformat_minor": 5
}
