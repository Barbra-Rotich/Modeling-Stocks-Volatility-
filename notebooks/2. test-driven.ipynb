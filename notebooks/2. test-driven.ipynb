{
 "cells": [
  {
   "cell_type": "markdown",
   "id": "6f5e3312-7586-4dde-8cac-f0e63e8bf7cc",
   "metadata": {},
   "source": [
    "2 Test Driven Development\n",
    "\n",
    "Build an AlphaVantageAPI class using the code used to access the API . Second,create an SQLRepository class to help load the stock data into a SQLite database and then extract it for later use. Build the code using test driven development by using  assert statements to make sure everything is working properly. That way, issues will be avoided later when building the application."
   ]
  },
  {
   "cell_type": "code",
   "execution_count": 50,
   "id": "b0f9de74-d49a-4e21-a423-536a4b00c0fa",
   "metadata": {
    "tags": []
   },
   "outputs": [
    {
     "name": "stdout",
     "output_type": "stream",
     "text": [
      "The autoreload extension is already loaded. To reload it, use:\n",
      "  %reload_ext autoreload\n",
      "The sql extension is already loaded. To reload it, use:\n",
      "  %reload_ext sql\n"
     ]
    }
   ],
   "source": [
    "%load_ext autoreload\n",
    "%load_ext sql\n",
    "%autoreload 2\n",
    "\n",
    "import sqlite3\n",
    "\n",
    "import matplotlib.pyplot as plt\n",
    "import pandas as pd\n",
    "from config import settings"
   ]
  },
  {
   "cell_type": "markdown",
   "id": "1728fbc9-1b0d-4f3f-ba3f-ad5d95c6f829",
   "metadata": {},
   "source": [
    "2.1 In the data module, initialize a class definition for AlphaVantageAPI using the __init__ method that attaches the API key as the attribute __api_key.Import the AlphaVantageAPI class and create an instance of it called av."
   ]
  },
  {
   "cell_type": "code",
   "execution_count": 51,
   "id": "aec4634e-cd6d-41ad-9953-acb75dc16fa2",
   "metadata": {
    "tags": []
   },
   "outputs": [
    {
     "name": "stdout",
     "output_type": "stream",
     "text": [
      "av type: <class 'data.AlphaVantageAPI'>\n"
     ]
    }
   ],
   "source": [
    "# Import `AlphaVantageAPI`\n",
    "from data import AlphaVantageAPI\n",
    "\n",
    "# Create instance of `AlphaVantageAPI` class\n",
    "av = AlphaVantageAPI()\n",
    "\n",
    "print(\"av type:\", type(av))"
   ]
  },
  {
   "cell_type": "markdown",
   "id": "23187e71-1acb-49fc-9eb0-069cc0b58630",
   "metadata": {},
   "source": [
    "2.1.1 Create a get_daily method for the AlphaVantageAPI class then fetch the stock data"
   ]
  },
  {
   "cell_type": "code",
   "execution_count": 52,
   "id": "7613cda8-2605-405d-adb8-8aefa37c8249",
   "metadata": {
    "tags": []
   },
   "outputs": [
    {
     "name": "stdout",
     "output_type": "stream",
     "text": [
      "df_equity type: <class 'pandas.core.frame.DataFrame'>\n",
      "df_equity shape: (54, 5)\n"
     ]
    },
    {
     "data": {
      "text/html": [
       "<div>\n",
       "<style scoped>\n",
       "    .dataframe tbody tr th:only-of-type {\n",
       "        vertical-align: middle;\n",
       "    }\n",
       "\n",
       "    .dataframe tbody tr th {\n",
       "        vertical-align: top;\n",
       "    }\n",
       "\n",
       "    .dataframe thead th {\n",
       "        text-align: right;\n",
       "    }\n",
       "</style>\n",
       "<table border=\"1\" class=\"dataframe\">\n",
       "  <thead>\n",
       "    <tr style=\"text-align: right;\">\n",
       "      <th></th>\n",
       "      <th>open</th>\n",
       "      <th>high</th>\n",
       "      <th>low</th>\n",
       "      <th>close</th>\n",
       "      <th>volume</th>\n",
       "    </tr>\n",
       "    <tr>\n",
       "      <th>date</th>\n",
       "      <th></th>\n",
       "      <th></th>\n",
       "      <th></th>\n",
       "      <th></th>\n",
       "      <th></th>\n",
       "    </tr>\n",
       "  </thead>\n",
       "  <tbody>\n",
       "    <tr>\n",
       "      <th>2023-03-01</th>\n",
       "      <td>16.8800</td>\n",
       "      <td>16.9000</td>\n",
       "      <td>16.73</td>\n",
       "      <td>16.7850</td>\n",
       "      <td>78388.0</td>\n",
       "    </tr>\n",
       "    <tr>\n",
       "      <th>2023-02-28</th>\n",
       "      <td>16.8811</td>\n",
       "      <td>16.9000</td>\n",
       "      <td>16.83</td>\n",
       "      <td>16.8800</td>\n",
       "      <td>8621.0</td>\n",
       "    </tr>\n",
       "    <tr>\n",
       "      <th>2023-02-27</th>\n",
       "      <td>16.8900</td>\n",
       "      <td>16.9781</td>\n",
       "      <td>16.82</td>\n",
       "      <td>16.8500</td>\n",
       "      <td>27415.0</td>\n",
       "    </tr>\n",
       "    <tr>\n",
       "      <th>2023-02-24</th>\n",
       "      <td>16.7900</td>\n",
       "      <td>16.8260</td>\n",
       "      <td>16.67</td>\n",
       "      <td>16.8063</td>\n",
       "      <td>20330.0</td>\n",
       "    </tr>\n",
       "    <tr>\n",
       "      <th>2023-02-23</th>\n",
       "      <td>17.0700</td>\n",
       "      <td>17.0800</td>\n",
       "      <td>16.87</td>\n",
       "      <td>17.0000</td>\n",
       "      <td>44770.0</td>\n",
       "    </tr>\n",
       "  </tbody>\n",
       "</table>\n",
       "</div>"
      ],
      "text/plain": [
       "               open     high    low    close   volume\n",
       "date                                                 \n",
       "2023-03-01  16.8800  16.9000  16.73  16.7850  78388.0\n",
       "2023-02-28  16.8811  16.9000  16.83  16.8800   8621.0\n",
       "2023-02-27  16.8900  16.9781  16.82  16.8500  27415.0\n",
       "2023-02-24  16.7900  16.8260  16.67  16.8063  20330.0\n",
       "2023-02-23  17.0700  17.0800  16.87  17.0000  44770.0"
      ]
     },
     "execution_count": 52,
     "metadata": {},
     "output_type": "execute_result"
    }
   ],
   "source": [
    "# Define Equity Bank ticker symbol\n",
    "ticker = \"EQTY\"\n",
    "\n",
    "# Use your `av` object to get daily data\n",
    "df_equity = av.get_daily(ticker=ticker)\n",
    "\n",
    "print(\"df_equity type:\", type(df_equity))\n",
    "print(\"df_equity shape:\", df_equity.shape)\n",
    "df_equity.head()"
   ]
  },
  {
   "cell_type": "code",
   "execution_count": 53,
   "id": "5c5a4609-ebbe-41c1-99e4-4bed73da1849",
   "metadata": {
    "tags": []
   },
   "outputs": [],
   "source": [
    "# Does `get_daily` return a DataFrame?\n",
    "assert isinstance(df_equity, pd.DataFrame)\n",
    "# Does DataFrame have 5 columns?\n",
    "assert df_equity.shape[1] == 5\n",
    "\n",
    "# Does DataFrame have a DatetimeIndex?\n",
    "\n",
    "assert isinstance(df_equity.index, pd.DatetimeIndex)\n",
    "# Is the index name \"date\"?\n",
    "assert df_equity.index.name == \"date\""
   ]
  },
  {
   "cell_type": "code",
   "execution_count": 54,
   "id": "02ac0d83-6f87-4c18-85b0-ca7b8102dbe1",
   "metadata": {
    "tags": []
   },
   "outputs": [],
   "source": [
    "# Does DataFrame have correct column names?\n",
    "assert df_equity.columns.to_list() == ['open', 'high', 'low', 'close', 'volume']\n",
    "# Are columns correct data type?\n",
    "assert all(df_equity.dtypes == float)"
   ]
  },
  {
   "cell_type": "markdown",
   "id": "9e820a65-744d-43f7-9309-bb05410c8c38",
   "metadata": {},
   "source": [
    "2.2 SQL Repository Class\n",
    "\n",
    "Store the data in a database to make it easier for the application to easily retrieve the data without going to the Alphavantage API everytime. Because the data is highly structured use an SQL database.\n",
    "\n",
    "Use SQLite for the database. For consistency, this database will always have the same name, stored in the .env file."
   ]
  },
  {
   "cell_type": "markdown",
   "id": "ec05aa01-68f5-4ff0-a1f9-b7ddd9a2fa1b",
   "metadata": {},
   "source": [
    "2.2.1 Connect to the database.  Set the check_same_thread argument to False. Assign the connection to the variable connection."
   ]
  },
  {
   "cell_type": "code",
   "execution_count": 55,
   "id": "29ef21ef-61cd-4cb9-8622-89be32a3f3af",
   "metadata": {
    "tags": []
   },
   "outputs": [
    {
     "data": {
      "text/plain": [
       "'stocks.sqlite'"
      ]
     },
     "execution_count": 55,
     "metadata": {},
     "output_type": "execute_result"
    }
   ],
   "source": [
    "settings.db_name"
   ]
  },
  {
   "cell_type": "code",
   "execution_count": 56,
   "id": "92d4d477-ffca-45ad-844d-93255fad9fa4",
   "metadata": {
    "tags": []
   },
   "outputs": [
    {
     "name": "stdout",
     "output_type": "stream",
     "text": [
      "connection type: <class 'sqlite3.Connection'>\n"
     ]
    }
   ],
   "source": [
    "connection = sqlite3.connect(database=settings.db_name, check_same_thread=False )\n",
    "\n",
    "print(\"connection type:\", type(connection))"
   ]
  },
  {
   "cell_type": "markdown",
   "id": "fc0ace68-6030-479b-bab7-af56adeac018",
   "metadata": {},
   "source": [
    "Connection is set. Build the class to handle all transactions with the database. Write two tests beforehand to ensure the class is working as intendend"
   ]
  },
  {
   "cell_type": "markdown",
   "id": "ce03dcf5-9359-453b-b0f0-1c3a04a603fc",
   "metadata": {
    "tags": []
   },
   "source": [
    "Write two tests for the SQLRepository class\n"
   ]
  },
  {
   "cell_type": "code",
   "execution_count": 57,
   "id": "0c2c2c7a-bae7-4e17-868d-e7b7e329a634",
   "metadata": {
    "tags": []
   },
   "outputs": [],
   "source": [
    "# Import class definition\n",
    "from data import SQLRepository\n",
    "\n",
    "# Create instance of class\n",
    "repo = SQLRepository(connection=connection)\n",
    "\n",
    "# Does `repo` have a \"connection\" attribute?\n",
    "hasattr(repo, \"connection\")\n",
    "\n",
    "# Is the \"connection\" attribute a SQLite `Connection`?\n",
    "assert isinstance(repo.connection, sqlite3.Connection)"
   ]
  },
  {
   "cell_type": "markdown",
   "id": "ad20529e-ff2b-4313-af14-99d43af028b5",
   "metadata": {},
   "source": [
    "2.2.2 Create a definition for the SQLRepository class.Initialize the class using the __init__ method. Test the method using the 2 ascert statements made above"
   ]
  },
  {
   "cell_type": "markdown",
   "id": "111bf009-71a3-451c-9969-3692fa9382ba",
   "metadata": {},
   "source": [
    "Next, add the insert_table method to SQLRepository class to store information in the SQL. Run the ascert statements to ensure the method is working well"
   ]
  },
  {
   "cell_type": "code",
   "execution_count": 58,
   "id": "d4c59af5-244d-459f-8345-0a5aebe28873",
   "metadata": {
    "tags": []
   },
   "outputs": [],
   "source": [
    "response = repo.insert_table(table_name=ticker, records=df_equity, if_exists=\"replace\")\n",
    "\n",
    "# Does your method return a dictionary?\n",
    "assert isinstance(response, dict)\n",
    "\n",
    "# Are the keys of that dictionary correct?\n",
    "assert sorted(list(response.keys())) == [\"records_inserted\", \"transaction_successful\"]"
   ]
  },
  {
   "cell_type": "code",
   "execution_count": 59,
   "id": "d02d68d3-882d-4d10-9476-3844caccaccc",
   "metadata": {
    "tags": []
   },
   "outputs": [],
   "source": [
    "#Connect to the sqlite\n",
    "%sql sqlite:////workspaces/codespaces-jupyter/notebooks/stocks.sqlite"
   ]
  },
  {
   "cell_type": "code",
   "execution_count": 60,
   "id": "76f6e515-1e90-4369-b12f-da758e60cf70",
   "metadata": {
    "tags": []
   },
   "outputs": [
    {
     "name": "stdout",
     "output_type": "stream",
     "text": [
      " * sqlite:////workspaces/codespaces-jupyter/notebooks/stocks.sqlite\n",
      "Done.\n"
     ]
    },
    {
     "data": {
      "text/html": [
       "<table>\n",
       "    <thead>\n",
       "        <tr>\n",
       "            <th>date</th>\n",
       "            <th>open</th>\n",
       "            <th>high</th>\n",
       "            <th>low</th>\n",
       "            <th>close</th>\n",
       "            <th>volume</th>\n",
       "        </tr>\n",
       "    </thead>\n",
       "    <tbody>\n",
       "        <tr>\n",
       "            <td>2023-03-01 00:00:00</td>\n",
       "            <td>16.88</td>\n",
       "            <td>16.9</td>\n",
       "            <td>16.73</td>\n",
       "            <td>16.785</td>\n",
       "            <td>78388.0</td>\n",
       "        </tr>\n",
       "        <tr>\n",
       "            <td>2023-02-28 00:00:00</td>\n",
       "            <td>16.8811</td>\n",
       "            <td>16.9</td>\n",
       "            <td>16.83</td>\n",
       "            <td>16.88</td>\n",
       "            <td>8621.0</td>\n",
       "        </tr>\n",
       "        <tr>\n",
       "            <td>2023-02-27 00:00:00</td>\n",
       "            <td>16.89</td>\n",
       "            <td>16.9781</td>\n",
       "            <td>16.82</td>\n",
       "            <td>16.85</td>\n",
       "            <td>27415.0</td>\n",
       "        </tr>\n",
       "        <tr>\n",
       "            <td>2023-02-24 00:00:00</td>\n",
       "            <td>16.79</td>\n",
       "            <td>16.826</td>\n",
       "            <td>16.67</td>\n",
       "            <td>16.8063</td>\n",
       "            <td>20330.0</td>\n",
       "        </tr>\n",
       "        <tr>\n",
       "            <td>2023-02-23 00:00:00</td>\n",
       "            <td>17.07</td>\n",
       "            <td>17.08</td>\n",
       "            <td>16.87</td>\n",
       "            <td>17.0</td>\n",
       "            <td>44770.0</td>\n",
       "        </tr>\n",
       "    </tbody>\n",
       "</table>"
      ],
      "text/plain": [
       "[('2023-03-01 00:00:00', 16.88, 16.9, 16.73, 16.785, 78388.0),\n",
       " ('2023-02-28 00:00:00', 16.8811, 16.9, 16.83, 16.88, 8621.0),\n",
       " ('2023-02-27 00:00:00', 16.89, 16.9781, 16.82, 16.85, 27415.0),\n",
       " ('2023-02-24 00:00:00', 16.79, 16.826, 16.67, 16.8063, 20330.0),\n",
       " ('2023-02-23 00:00:00', 17.07, 17.08, 16.87, 17.0, 44770.0)]"
      ]
     },
     "execution_count": 60,
     "metadata": {},
     "output_type": "execute_result"
    }
   ],
   "source": [
    "%%sql\n",
    "SELECT *\n",
    "FROM \"EQTY\"\n",
    "LIMIT 5"
   ]
  },
  {
   "cell_type": "code",
   "execution_count": 61,
   "id": "2a329b0c-9545-4f1f-b9cd-dae03b061bc2",
   "metadata": {
    "tags": []
   },
   "outputs": [
    {
     "name": "stdout",
     "output_type": "stream",
     "text": [
      "df_equity_test type: <class 'pandas.core.frame.DataFrame'>\n",
      "\n",
      "<class 'pandas.core.frame.DataFrame'>\n",
      "DatetimeIndex: 54 entries, 2023-03-01 to 2022-12-12\n",
      "Data columns (total 5 columns):\n",
      " #   Column  Non-Null Count  Dtype  \n",
      "---  ------  --------------  -----  \n",
      " 0   open    54 non-null     float64\n",
      " 1   high    54 non-null     float64\n",
      " 2   low     54 non-null     float64\n",
      " 3   close   54 non-null     float64\n",
      " 4   volume  54 non-null     float64\n",
      "dtypes: float64(5)\n",
      "memory usage: 2.5 KB\n",
      "None\n"
     ]
    },
    {
     "data": {
      "text/html": [
       "<div>\n",
       "<style scoped>\n",
       "    .dataframe tbody tr th:only-of-type {\n",
       "        vertical-align: middle;\n",
       "    }\n",
       "\n",
       "    .dataframe tbody tr th {\n",
       "        vertical-align: top;\n",
       "    }\n",
       "\n",
       "    .dataframe thead th {\n",
       "        text-align: right;\n",
       "    }\n",
       "</style>\n",
       "<table border=\"1\" class=\"dataframe\">\n",
       "  <thead>\n",
       "    <tr style=\"text-align: right;\">\n",
       "      <th></th>\n",
       "      <th>open</th>\n",
       "      <th>high</th>\n",
       "      <th>low</th>\n",
       "      <th>close</th>\n",
       "      <th>volume</th>\n",
       "    </tr>\n",
       "    <tr>\n",
       "      <th>date</th>\n",
       "      <th></th>\n",
       "      <th></th>\n",
       "      <th></th>\n",
       "      <th></th>\n",
       "      <th></th>\n",
       "    </tr>\n",
       "  </thead>\n",
       "  <tbody>\n",
       "    <tr>\n",
       "      <th>2023-03-01</th>\n",
       "      <td>16.8800</td>\n",
       "      <td>16.9000</td>\n",
       "      <td>16.73</td>\n",
       "      <td>16.7850</td>\n",
       "      <td>78388.0</td>\n",
       "    </tr>\n",
       "    <tr>\n",
       "      <th>2023-02-28</th>\n",
       "      <td>16.8811</td>\n",
       "      <td>16.9000</td>\n",
       "      <td>16.83</td>\n",
       "      <td>16.8800</td>\n",
       "      <td>8621.0</td>\n",
       "    </tr>\n",
       "    <tr>\n",
       "      <th>2023-02-27</th>\n",
       "      <td>16.8900</td>\n",
       "      <td>16.9781</td>\n",
       "      <td>16.82</td>\n",
       "      <td>16.8500</td>\n",
       "      <td>27415.0</td>\n",
       "    </tr>\n",
       "    <tr>\n",
       "      <th>2023-02-24</th>\n",
       "      <td>16.7900</td>\n",
       "      <td>16.8260</td>\n",
       "      <td>16.67</td>\n",
       "      <td>16.8063</td>\n",
       "      <td>20330.0</td>\n",
       "    </tr>\n",
       "    <tr>\n",
       "      <th>2023-02-23</th>\n",
       "      <td>17.0700</td>\n",
       "      <td>17.0800</td>\n",
       "      <td>16.87</td>\n",
       "      <td>17.0000</td>\n",
       "      <td>44770.0</td>\n",
       "    </tr>\n",
       "  </tbody>\n",
       "</table>\n",
       "</div>"
      ],
      "text/plain": [
       "               open     high    low    close   volume\n",
       "date                                                 \n",
       "2023-03-01  16.8800  16.9000  16.73  16.7850  78388.0\n",
       "2023-02-28  16.8811  16.9000  16.83  16.8800   8621.0\n",
       "2023-02-27  16.8900  16.9781  16.82  16.8500  27415.0\n",
       "2023-02-24  16.7900  16.8260  16.67  16.8063  20330.0\n",
       "2023-02-23  17.0700  17.0800  16.87  17.0000  44770.0"
      ]
     },
     "execution_count": 61,
     "metadata": {},
     "output_type": "execute_result"
    }
   ],
   "source": [
    "#write a SQL query to get all the Equity data(Testing if the SQL database is working)\n",
    "sql = \"SELECT * FROM 'EQTY'\"\n",
    "df_equity_test = pd.read_sql(\n",
    "   sql=sql,con=connection ,parse_dates=[\"date\"], index_col=\"date\"\n",
    ")\n",
    "\n",
    "print(\"df_equity_test type:\", type(df_equity_test))\n",
    "print()\n",
    "print(df_equity_test.info())\n",
    "df_equity_test.head()"
   ]
  },
  {
   "cell_type": "markdown",
   "id": "950f915c-7f66-4299-9ce9-5c3c9ad2f764",
   "metadata": {},
   "source": [
    "Add the read_table method to SQLRepository class to store information in the SQL. Run the ascert statements to ensure the method is working well"
   ]
  },
  {
   "cell_type": "code",
   "execution_count": 62,
   "id": "92932181-7184-49f0-8eea-977dd1cc27fb",
   "metadata": {},
   "outputs": [
    {
     "name": "stdout",
     "output_type": "stream",
     "text": [
      "df_coop shape: (2500, 5)\n",
      "\n",
      "<class 'pandas.core.frame.DataFrame'>\n",
      "DatetimeIndex: 2500 entries, 2023-03-01 to 2013-03-27\n",
      "Data columns (total 5 columns):\n",
      " #   Column  Non-Null Count  Dtype  \n",
      "---  ------  --------------  -----  \n",
      " 0   open    2500 non-null   float64\n",
      " 1   high    2500 non-null   float64\n",
      " 2   low     2500 non-null   float64\n",
      " 3   close   2500 non-null   float64\n",
      " 4   volume  2500 non-null   float64\n",
      "dtypes: float64(5)\n",
      "memory usage: 117.2 KB\n",
      "None\n"
     ]
    },
    {
     "data": {
      "text/html": [
       "<div>\n",
       "<style scoped>\n",
       "    .dataframe tbody tr th:only-of-type {\n",
       "        vertical-align: middle;\n",
       "    }\n",
       "\n",
       "    .dataframe tbody tr th {\n",
       "        vertical-align: top;\n",
       "    }\n",
       "\n",
       "    .dataframe thead th {\n",
       "        text-align: right;\n",
       "    }\n",
       "</style>\n",
       "<table border=\"1\" class=\"dataframe\">\n",
       "  <thead>\n",
       "    <tr style=\"text-align: right;\">\n",
       "      <th></th>\n",
       "      <th>open</th>\n",
       "      <th>high</th>\n",
       "      <th>low</th>\n",
       "      <th>close</th>\n",
       "      <th>volume</th>\n",
       "    </tr>\n",
       "    <tr>\n",
       "      <th>date</th>\n",
       "      <th></th>\n",
       "      <th></th>\n",
       "      <th></th>\n",
       "      <th></th>\n",
       "      <th></th>\n",
       "    </tr>\n",
       "  </thead>\n",
       "  <tbody>\n",
       "    <tr>\n",
       "      <th>2023-03-01</th>\n",
       "      <td>46.24</td>\n",
       "      <td>47.0300</td>\n",
       "      <td>45.92</td>\n",
       "      <td>46.81</td>\n",
       "      <td>356388.0</td>\n",
       "    </tr>\n",
       "    <tr>\n",
       "      <th>2023-02-28</th>\n",
       "      <td>46.90</td>\n",
       "      <td>47.9275</td>\n",
       "      <td>46.42</td>\n",
       "      <td>46.43</td>\n",
       "      <td>916349.0</td>\n",
       "    </tr>\n",
       "    <tr>\n",
       "      <th>2023-02-27</th>\n",
       "      <td>46.47</td>\n",
       "      <td>47.4800</td>\n",
       "      <td>46.47</td>\n",
       "      <td>46.93</td>\n",
       "      <td>355692.0</td>\n",
       "    </tr>\n",
       "    <tr>\n",
       "      <th>2023-02-24</th>\n",
       "      <td>45.77</td>\n",
       "      <td>46.4600</td>\n",
       "      <td>45.56</td>\n",
       "      <td>46.23</td>\n",
       "      <td>373005.0</td>\n",
       "    </tr>\n",
       "    <tr>\n",
       "      <th>2023-02-23</th>\n",
       "      <td>46.38</td>\n",
       "      <td>46.8900</td>\n",
       "      <td>45.82</td>\n",
       "      <td>46.52</td>\n",
       "      <td>389625.0</td>\n",
       "    </tr>\n",
       "  </tbody>\n",
       "</table>\n",
       "</div>"
      ],
      "text/plain": [
       "             open     high    low  close    volume\n",
       "date                                              \n",
       "2023-03-01  46.24  47.0300  45.92  46.81  356388.0\n",
       "2023-02-28  46.90  47.9275  46.42  46.43  916349.0\n",
       "2023-02-27  46.47  47.4800  46.47  46.93  355692.0\n",
       "2023-02-24  45.77  46.4600  45.56  46.23  373005.0\n",
       "2023-02-23  46.38  46.8900  45.82  46.52  389625.0"
      ]
     },
     "execution_count": 62,
     "metadata": {},
     "output_type": "execute_result"
    }
   ],
   "source": [
    "#test your read_table function\n",
    "# Assign `read_table` output to `df_coop`\n",
    "df_coop = repo.read_table(table_name=\"COOP\", limit=2500)  # noQA F821\n",
    "\n",
    "# Is `df_coop` a DataFrame?\n",
    "assert isinstance(df_coop, pd.DataFrame)\n",
    "# Does it have a `DatetimeIndex`?\n",
    "assert isinstance(df_coop.index, pd.DatetimeIndex)\n",
    "# Is the index named \"date\"?\n",
    "assert df_coop.index.name == \"date\"\n",
    "\n",
    "# Does it have  rows and 5 columns?\n",
    "assert df_coop.shape== (2500, 5)\n",
    "\n",
    "# Are the column names correct?\n",
    "assert df_coop.columns.to_list() == ['open', 'high', 'low', 'close', 'volume']\n",
    "\n",
    "\n",
    "# Are the column data types correct?\n",
    "assert all(df_coop.dtypes == float)\n",
    "\n",
    "# Print `df_coop` info\n",
    "print(\"df_coop shape:\", df_coop.shape)\n",
    "print()\n",
    "print(df_coop.info())\n",
    "df_coop.head()"
   ]
  },
  {
   "cell_type": "code",
   "execution_count": 63,
   "id": "2deda70f-2e2c-4b91-812d-49ccd55d0dd0",
   "metadata": {
    "tags": []
   },
   "outputs": [],
   "source": [
    "#Expand on the code  above to complete the read_table function \n",
    "\n",
    "def read_table(table_name, limit=None):\n",
    "\n",
    "    \"\"\"Read table from database.\n",
    "\n",
    "    Parameters\n",
    "    ----------\n",
    "    table_name : str\n",
    "        Name of table in SQLite database.\n",
    "    limit : int, None, optional\n",
    "        Number of most recent records to retrieve. If `None`, all\n",
    "        records are retrieved. By default, `None`.\n",
    "\n",
    "    Returns\n",
    "    -------\n",
    "    pd.DataFrame\n",
    "        Index is DatetimeIndex \"date\". Columns are 'open', 'high',\n",
    "        'low', 'close', and 'volume'. All columns are numeric.\n",
    "    \"\"\"\n",
    "    # Create SQL query (with optional limit)\n",
    "    if limit:\n",
    "        sql=f\"SELECT * FROM '{table_name}' LIMIT {limit}\"\n",
    "    else:\n",
    "        sql=f\"SELECT * FROM '{table_name}'\"\n",
    "    \n",
    "\n",
    "    # Retrieve data, read into DataFrame\n",
    "    df =  pd.read_sql(\n",
    "       sql=sql, con=connection ,parse_dates=[\"date\"], index_col=\"date\"\n",
    "    )\n",
    "\n",
    "\n",
    "    # Return DataFrame\n",
    "    return df"
   ]
  },
  {
   "cell_type": "code",
   "execution_count": 64,
   "id": "731ce66e-0c58-4138-9645-66fb8b7bf321",
   "metadata": {
    "tags": []
   },
   "outputs": [
    {
     "data": {
      "text/plain": [
       "{'transaction_successful': True, 'records_inserted': 472}"
      ]
     },
     "execution_count": 64,
     "metadata": {},
     "output_type": "execute_result"
    }
   ],
   "source": [
    "ticker = \"SLAM\"\n",
    "\n",
    "# Get Sanlam data using `av`\n",
    "slam_records = av.get_daily(ticker=ticker)\n",
    "\n",
    "# Insert `sanlam_records` database using `repo`\n",
    "response = repo.insert_table(\n",
    "    table_name=ticker,records=slam_records, if_exists=\"replace\"\n",
    ")\n",
    "\n",
    "response"
   ]
  },
  {
   "cell_type": "code",
   "execution_count": 65,
   "id": "52762026-be89-403e-9ffc-693d8976340b",
   "metadata": {
    "tags": []
   },
   "outputs": [
    {
     "name": "stdout",
     "output_type": "stream",
     "text": [
      "df_sanlam type: <class 'pandas.core.frame.DataFrame'>\n",
      "df_sanlam shape: (470, 5)\n"
     ]
    },
    {
     "data": {
      "text/html": [
       "<div>\n",
       "<style scoped>\n",
       "    .dataframe tbody tr th:only-of-type {\n",
       "        vertical-align: middle;\n",
       "    }\n",
       "\n",
       "    .dataframe tbody tr th {\n",
       "        vertical-align: top;\n",
       "    }\n",
       "\n",
       "    .dataframe thead th {\n",
       "        text-align: right;\n",
       "    }\n",
       "</style>\n",
       "<table border=\"1\" class=\"dataframe\">\n",
       "  <thead>\n",
       "    <tr style=\"text-align: right;\">\n",
       "      <th></th>\n",
       "      <th>open</th>\n",
       "      <th>high</th>\n",
       "      <th>low</th>\n",
       "      <th>close</th>\n",
       "      <th>volume</th>\n",
       "    </tr>\n",
       "    <tr>\n",
       "      <th>date</th>\n",
       "      <th></th>\n",
       "      <th></th>\n",
       "      <th></th>\n",
       "      <th></th>\n",
       "      <th></th>\n",
       "    </tr>\n",
       "  </thead>\n",
       "  <tbody>\n",
       "    <tr>\n",
       "      <th>2023-03-01</th>\n",
       "      <td>10.2300</td>\n",
       "      <td>10.2500</td>\n",
       "      <td>10.2300</td>\n",
       "      <td>10.2400</td>\n",
       "      <td>17766.0</td>\n",
       "    </tr>\n",
       "    <tr>\n",
       "      <th>2023-02-28</th>\n",
       "      <td>10.2200</td>\n",
       "      <td>10.2400</td>\n",
       "      <td>10.2200</td>\n",
       "      <td>10.2400</td>\n",
       "      <td>15806.0</td>\n",
       "    </tr>\n",
       "    <tr>\n",
       "      <th>2023-02-27</th>\n",
       "      <td>10.2100</td>\n",
       "      <td>10.2300</td>\n",
       "      <td>10.2100</td>\n",
       "      <td>10.2300</td>\n",
       "      <td>26308.0</td>\n",
       "    </tr>\n",
       "    <tr>\n",
       "      <th>2023-02-24</th>\n",
       "      <td>10.2000</td>\n",
       "      <td>10.2100</td>\n",
       "      <td>10.2000</td>\n",
       "      <td>10.2100</td>\n",
       "      <td>509.0</td>\n",
       "    </tr>\n",
       "    <tr>\n",
       "      <th>2023-02-23</th>\n",
       "      <td>10.2001</td>\n",
       "      <td>10.2147</td>\n",
       "      <td>10.2001</td>\n",
       "      <td>10.2101</td>\n",
       "      <td>3218.0</td>\n",
       "    </tr>\n",
       "  </tbody>\n",
       "</table>\n",
       "</div>"
      ],
      "text/plain": [
       "               open     high      low    close   volume\n",
       "date                                                   \n",
       "2023-03-01  10.2300  10.2500  10.2300  10.2400  17766.0\n",
       "2023-02-28  10.2200  10.2400  10.2200  10.2400  15806.0\n",
       "2023-02-27  10.2100  10.2300  10.2100  10.2300  26308.0\n",
       "2023-02-24  10.2000  10.2100  10.2000  10.2100    509.0\n",
       "2023-02-23  10.2001  10.2147  10.2001  10.2101   3218.0"
      ]
     },
     "execution_count": 65,
     "metadata": {},
     "output_type": "execute_result"
    }
   ],
   "source": [
    "#Using the read_table method you've added to your SQLRepository, extract the most recent 470 rows of data\n",
    "ticker = \"SLAM\"\n",
    "df_sanlam = repo.read_table(table_name=ticker, limit=470)\n",
    "\n",
    "print(\"df_sanlam type:\", type(df_sanlam))\n",
    "print(\"df_sanlam shape:\", df_sanlam.shape)\n",
    "df_sanlam.head()"
   ]
  },
  {
   "cell_type": "code",
   "execution_count": 66,
   "id": "6434dfd5-3500-46f6-9ead-b0659e817850",
   "metadata": {
    "tags": []
   },
   "outputs": [
    {
     "data": {
      "text/plain": [
       "{'transaction_successful': True, 'records_inserted': 1354}"
      ]
     },
     "execution_count": 66,
     "metadata": {},
     "output_type": "execute_result"
    }
   ],
   "source": [
    "ticker = \"CIC\"\n",
    "\n",
    "# Get Sanlam data using `av`\n",
    "cic_records = av.get_daily(ticker=ticker)\n",
    "\n",
    "# Insert `sanlam_records` database using `repo`\n",
    "response = repo.insert_table(\n",
    "    table_name=ticker,records=cic_records, if_exists=\"replace\"\n",
    ")\n",
    "\n",
    "response"
   ]
  },
  {
   "cell_type": "code",
   "execution_count": 67,
   "id": "22d3a2a7-a50d-449c-9a5c-102a6d834b88",
   "metadata": {
    "tags": []
   },
   "outputs": [
    {
     "name": "stdout",
     "output_type": "stream",
     "text": [
      "df_cic type: <class 'pandas.core.frame.DataFrame'>\n",
      "df_cic shape: (470, 5)\n"
     ]
    },
    {
     "data": {
      "text/html": [
       "<div>\n",
       "<style scoped>\n",
       "    .dataframe tbody tr th:only-of-type {\n",
       "        vertical-align: middle;\n",
       "    }\n",
       "\n",
       "    .dataframe tbody tr th {\n",
       "        vertical-align: top;\n",
       "    }\n",
       "\n",
       "    .dataframe thead th {\n",
       "        text-align: right;\n",
       "    }\n",
       "</style>\n",
       "<table border=\"1\" class=\"dataframe\">\n",
       "  <thead>\n",
       "    <tr style=\"text-align: right;\">\n",
       "      <th></th>\n",
       "      <th>open</th>\n",
       "      <th>high</th>\n",
       "      <th>low</th>\n",
       "      <th>close</th>\n",
       "      <th>volume</th>\n",
       "    </tr>\n",
       "    <tr>\n",
       "      <th>date</th>\n",
       "      <th></th>\n",
       "      <th></th>\n",
       "      <th></th>\n",
       "      <th></th>\n",
       "      <th></th>\n",
       "    </tr>\n",
       "  </thead>\n",
       "  <tbody>\n",
       "    <tr>\n",
       "      <th>2023-03-01</th>\n",
       "      <td>7.22</td>\n",
       "      <td>7.270</td>\n",
       "      <td>7.140</td>\n",
       "      <td>7.15</td>\n",
       "      <td>188204.0</td>\n",
       "    </tr>\n",
       "    <tr>\n",
       "      <th>2023-02-28</th>\n",
       "      <td>7.24</td>\n",
       "      <td>7.320</td>\n",
       "      <td>7.215</td>\n",
       "      <td>7.24</td>\n",
       "      <td>217542.0</td>\n",
       "    </tr>\n",
       "    <tr>\n",
       "      <th>2023-02-27</th>\n",
       "      <td>7.28</td>\n",
       "      <td>7.310</td>\n",
       "      <td>7.210</td>\n",
       "      <td>7.23</td>\n",
       "      <td>167044.0</td>\n",
       "    </tr>\n",
       "    <tr>\n",
       "      <th>2023-02-24</th>\n",
       "      <td>7.14</td>\n",
       "      <td>7.255</td>\n",
       "      <td>7.080</td>\n",
       "      <td>7.21</td>\n",
       "      <td>199897.0</td>\n",
       "    </tr>\n",
       "    <tr>\n",
       "      <th>2023-02-23</th>\n",
       "      <td>7.11</td>\n",
       "      <td>7.230</td>\n",
       "      <td>7.095</td>\n",
       "      <td>7.20</td>\n",
       "      <td>208546.0</td>\n",
       "    </tr>\n",
       "  </tbody>\n",
       "</table>\n",
       "</div>"
      ],
      "text/plain": [
       "            open   high    low  close    volume\n",
       "date                                           \n",
       "2023-03-01  7.22  7.270  7.140   7.15  188204.0\n",
       "2023-02-28  7.24  7.320  7.215   7.24  217542.0\n",
       "2023-02-27  7.28  7.310  7.210   7.23  167044.0\n",
       "2023-02-24  7.14  7.255  7.080   7.21  199897.0\n",
       "2023-02-23  7.11  7.230  7.095   7.20  208546.0"
      ]
     },
     "execution_count": 67,
     "metadata": {},
     "output_type": "execute_result"
    }
   ],
   "source": [
    "#Using the read_table method you've added to your SQLRepository, extract the most recent 470 rows of data\n",
    "ticker = \"CIC\"\n",
    "df_cic = repo.read_table(table_name=ticker, limit=470)\n",
    "\n",
    "print(\"df_cic type:\", type(df_cic))\n",
    "print(\"df_cic shape:\", df_cic.shape)\n",
    "df_cic.head()"
   ]
  },
  {
   "cell_type": "code",
   "execution_count": 68,
   "id": "db532496-e9b8-44b8-a22d-fc26c0d3d17e",
   "metadata": {
    "tags": []
   },
   "outputs": [
    {
     "data": {
      "image/png": "[encoded data removed]",
      "text/plain": [
       "<Figure size 1500x600 with 1 Axes>"
      ]
     },
     "metadata": {},
     "output_type": "display_data"
    }
   ],
   "source": [
    "#Plot the closing price of Equity and Cooperative Bank. Label your axes and include a legend\n",
    "\n",
    "fig, ax = plt.subplots(figsize=(15, 6))\n",
    "# Plot `df_equity` and `df_coop`\n",
    "df_equity[\"close\"].plot(ax=ax, label= \"EQUITY\", color=\"C2\")\n",
    "df_coop[\"close\"].plot(ax=ax, label= \"COOP\", color=\"C1\")\n",
    "\n",
    "# Label axes\n",
    "plt.xlabel(\"Date\")\n",
    "plt.ylabel(\"Closing Price\")\n",
    "\n",
    "\n",
    "\n",
    "# Add legend\n",
    "plt.legend();\n",
    "\n"
   ]
  },
  {
   "cell_type": "code",
   "execution_count": 69,
   "id": "e4e64550-9c13-4042-a3a7-3d87fe4adec8",
   "metadata": {
    "tags": []
   },
   "outputs": [
    {
     "name": "stdout",
     "output_type": "stream",
     "text": [
      "df_equity shape: (54, 6)\n",
      "<class 'pandas.core.frame.DataFrame'>\n",
      "DatetimeIndex: 54 entries, 2022-12-12 to 2023-03-01\n",
      "Data columns (total 6 columns):\n",
      " #   Column  Non-Null Count  Dtype  \n",
      "---  ------  --------------  -----  \n",
      " 0   open    54 non-null     float64\n",
      " 1   high    54 non-null     float64\n",
      " 2   low     54 non-null     float64\n",
      " 3   close   54 non-null     float64\n",
      " 4   volume  54 non-null     float64\n",
      " 5   return  53 non-null     float64\n",
      "dtypes: float64(6)\n",
      "memory usage: 3.0 KB\n",
      "None\n"
     ]
    },
    {
     "data": {
      "text/html": [
       "<div>\n",
       "<style scoped>\n",
       "    .dataframe tbody tr th:only-of-type {\n",
       "        vertical-align: middle;\n",
       "    }\n",
       "\n",
       "    .dataframe tbody tr th {\n",
       "        vertical-align: top;\n",
       "    }\n",
       "\n",
       "    .dataframe thead th {\n",
       "        text-align: right;\n",
       "    }\n",
       "</style>\n",
       "<table border=\"1\" class=\"dataframe\">\n",
       "  <thead>\n",
       "    <tr style=\"text-align: right;\">\n",
       "      <th></th>\n",
       "      <th>open</th>\n",
       "      <th>high</th>\n",
       "      <th>low</th>\n",
       "      <th>close</th>\n",
       "      <th>volume</th>\n",
       "      <th>return</th>\n",
       "    </tr>\n",
       "    <tr>\n",
       "      <th>date</th>\n",
       "      <th></th>\n",
       "      <th></th>\n",
       "      <th></th>\n",
       "      <th></th>\n",
       "      <th></th>\n",
       "      <th></th>\n",
       "    </tr>\n",
       "  </thead>\n",
       "  <tbody>\n",
       "    <tr>\n",
       "      <th>2022-12-12</th>\n",
       "      <td>16.2200</td>\n",
       "      <td>16.3389</td>\n",
       "      <td>16.2200</td>\n",
       "      <td>16.3389</td>\n",
       "      <td>201.0</td>\n",
       "      <td>NaN</td>\n",
       "    </tr>\n",
       "    <tr>\n",
       "      <th>2022-12-13</th>\n",
       "      <td>16.5500</td>\n",
       "      <td>16.6600</td>\n",
       "      <td>16.4628</td>\n",
       "      <td>16.5200</td>\n",
       "      <td>103009.0</td>\n",
       "      <td>1.108398</td>\n",
       "    </tr>\n",
       "    <tr>\n",
       "      <th>2022-12-14</th>\n",
       "      <td>16.2300</td>\n",
       "      <td>16.5500</td>\n",
       "      <td>16.2300</td>\n",
       "      <td>16.3763</td>\n",
       "      <td>42287.0</td>\n",
       "      <td>-0.869855</td>\n",
       "    </tr>\n",
       "    <tr>\n",
       "      <th>2022-12-15</th>\n",
       "      <td>15.9177</td>\n",
       "      <td>16.0000</td>\n",
       "      <td>15.7500</td>\n",
       "      <td>15.8330</td>\n",
       "      <td>48542.0</td>\n",
       "      <td>-3.317599</td>\n",
       "    </tr>\n",
       "    <tr>\n",
       "      <th>2022-12-16</th>\n",
       "      <td>15.6500</td>\n",
       "      <td>15.7000</td>\n",
       "      <td>15.5600</td>\n",
       "      <td>15.6839</td>\n",
       "      <td>45241.0</td>\n",
       "      <td>-0.941704</td>\n",
       "    </tr>\n",
       "  </tbody>\n",
       "</table>\n",
       "</div>"
      ],
      "text/plain": [
       "               open     high      low    close    volume    return\n",
       "date                                                              \n",
       "2022-12-12  16.2200  16.3389  16.2200  16.3389     201.0       NaN\n",
       "2022-12-13  16.5500  16.6600  16.4628  16.5200  103009.0  1.108398\n",
       "2022-12-14  16.2300  16.5500  16.2300  16.3763   42287.0 -0.869855\n",
       "2022-12-15  15.9177  16.0000  15.7500  15.8330   48542.0 -3.317599\n",
       "2022-12-16  15.6500  15.7000  15.5600  15.6839   45241.0 -0.941704"
      ]
     },
     "execution_count": 69,
     "metadata": {},
     "output_type": "execute_result"
    }
   ],
   "source": [
    "#Add a \"return\" column to df_equity that shows the percentage change in the \"close\" column from one day to the next.\n",
    "\n",
    "# Sort DataFrame ascending by date\n",
    "df_equity.sort_index(ascending=True, inplace=True)\n",
    "\n",
    "# Create \"return\" column\n",
    "df_equity[\"return\"]=df_equity[\"close\"].pct_change() * 100\n",
    "\n",
    "print(\"df_equity shape:\", df_equity.shape)\n",
    "print(df_equity.info())\n",
    "df_equity.head()"
   ]
  },
  {
   "cell_type": "code",
   "execution_count": 70,
   "id": "a6ec3838-acda-457a-8b9f-14d4aaeeb8fa",
   "metadata": {
    "tags": []
   },
   "outputs": [
    {
     "name": "stdout",
     "output_type": "stream",
     "text": [
      "df_coop shape: (2500, 6)\n",
      "<class 'pandas.core.frame.DataFrame'>\n",
      "DatetimeIndex: 2500 entries, 2013-03-27 to 2023-03-01\n",
      "Data columns (total 6 columns):\n",
      " #   Column  Non-Null Count  Dtype  \n",
      "---  ------  --------------  -----  \n",
      " 0   open    2500 non-null   float64\n",
      " 1   high    2500 non-null   float64\n",
      " 2   low     2500 non-null   float64\n",
      " 3   close   2500 non-null   float64\n",
      " 4   volume  2500 non-null   float64\n",
      " 5   return  2499 non-null   float64\n",
      "dtypes: float64(6)\n",
      "memory usage: 136.7 KB\n",
      "None\n"
     ]
    },
    {
     "data": {
      "text/html": [
       "<div>\n",
       "<style scoped>\n",
       "    .dataframe tbody tr th:only-of-type {\n",
       "        vertical-align: middle;\n",
       "    }\n",
       "\n",
       "    .dataframe tbody tr th {\n",
       "        vertical-align: top;\n",
       "    }\n",
       "\n",
       "    .dataframe thead th {\n",
       "        text-align: right;\n",
       "    }\n",
       "</style>\n",
       "<table border=\"1\" class=\"dataframe\">\n",
       "  <thead>\n",
       "    <tr style=\"text-align: right;\">\n",
       "      <th></th>\n",
       "      <th>open</th>\n",
       "      <th>high</th>\n",
       "      <th>low</th>\n",
       "      <th>close</th>\n",
       "      <th>volume</th>\n",
       "      <th>return</th>\n",
       "    </tr>\n",
       "    <tr>\n",
       "      <th>date</th>\n",
       "      <th></th>\n",
       "      <th></th>\n",
       "      <th></th>\n",
       "      <th></th>\n",
       "      <th></th>\n",
       "      <th></th>\n",
       "    </tr>\n",
       "  </thead>\n",
       "  <tbody>\n",
       "    <tr>\n",
       "      <th>2013-03-27</th>\n",
       "      <td>0.701</td>\n",
       "      <td>0.719</td>\n",
       "      <td>0.6800</td>\n",
       "      <td>0.69</td>\n",
       "      <td>127616.0</td>\n",
       "      <td>NaN</td>\n",
       "    </tr>\n",
       "    <tr>\n",
       "      <th>2013-03-28</th>\n",
       "      <td>0.660</td>\n",
       "      <td>0.750</td>\n",
       "      <td>0.6501</td>\n",
       "      <td>0.70</td>\n",
       "      <td>61127.0</td>\n",
       "      <td>1.449275</td>\n",
       "    </tr>\n",
       "    <tr>\n",
       "      <th>2013-04-01</th>\n",
       "      <td>0.670</td>\n",
       "      <td>0.700</td>\n",
       "      <td>0.6600</td>\n",
       "      <td>0.70</td>\n",
       "      <td>165605.0</td>\n",
       "      <td>0.000000</td>\n",
       "    </tr>\n",
       "    <tr>\n",
       "      <th>2013-04-02</th>\n",
       "      <td>0.680</td>\n",
       "      <td>0.700</td>\n",
       "      <td>0.6800</td>\n",
       "      <td>0.69</td>\n",
       "      <td>52137.0</td>\n",
       "      <td>-1.428571</td>\n",
       "    </tr>\n",
       "    <tr>\n",
       "      <th>2013-04-03</th>\n",
       "      <td>0.690</td>\n",
       "      <td>0.690</td>\n",
       "      <td>0.6500</td>\n",
       "      <td>0.67</td>\n",
       "      <td>163858.0</td>\n",
       "      <td>-2.898551</td>\n",
       "    </tr>\n",
       "  </tbody>\n",
       "</table>\n",
       "</div>"
      ],
      "text/plain": [
       "             open   high     low  close    volume    return\n",
       "date                                                       \n",
       "2013-03-27  0.701  0.719  0.6800   0.69  127616.0       NaN\n",
       "2013-03-28  0.660  0.750  0.6501   0.70   61127.0  1.449275\n",
       "2013-04-01  0.670  0.700  0.6600   0.70  165605.0  0.000000\n",
       "2013-04-02  0.680  0.700  0.6800   0.69   52137.0 -1.428571\n",
       "2013-04-03  0.690  0.690  0.6500   0.67  163858.0 -2.898551"
      ]
     },
     "execution_count": 70,
     "metadata": {},
     "output_type": "execute_result"
    }
   ],
   "source": [
    "#Add a \"return\" column to df_coop that shows the percentage change in the \"close\" column from one day to the next.\n",
    "\n",
    "\n",
    "# Sort DataFrame ascending by date\n",
    "df_coop.sort_index(ascending=True, inplace=True)\n",
    "\n",
    "# Create \"return\" column\n",
    "df_coop[\"return\"]=df_coop[\"close\"].pct_change() * 100\n",
    "\n",
    "print(\"df_coop shape:\", df_coop.shape)\n",
    "print(df_coop.info())\n",
    "df_coop.head()"
   ]
  },
  {
   "cell_type": "code",
   "execution_count": 71,
   "id": "80b272bc-6794-4743-8274-ed9ca46ebefc",
   "metadata": {
    "tags": []
   },
   "outputs": [
    {
     "data": {
      "image/png": "[encoded data removed]",
      "text/plain": [
       "<Figure size 1500x600 with 1 Axes>"
      ]
     },
     "metadata": {},
     "output_type": "display_data"
    }
   ],
   "source": [
    "#Plot the returns for df_equity and df_coop. Be sure to label your axes and use legend\n",
    "\n",
    "fig, ax = plt.subplots(figsize=(15, 6))\n",
    "# Plot `df_equity` and `df_coop`\n",
    "df_equity[\"return\"].plot(ax=ax, label= \"EQUITY\", color=\"C2\")\n",
    "df_coop[\"return\"].plot(ax=ax, label= \"COOP\", color=\"C1\")\n",
    "\n",
    "# Label axes\n",
    "plt.xlabel(\"Date\")\n",
    "plt.ylabel(\"Closing Price\")\n",
    "\n",
    "\n",
    "\n",
    "# Add legend\n",
    "plt.legend();\n"
   ]
  },
  {
   "cell_type": "code",
   "execution_count": 72,
   "id": "08d8afbc-1694-4ed3-b231-231aa77952d3",
   "metadata": {
    "tags": []
   },
   "outputs": [
    {
     "data": {
      "image/png": "[encoded data removed]",
      "text/plain": [
       "<Figure size 1500x600 with 1 Axes>"
      ]
     },
     "metadata": {},
     "output_type": "display_data"
    }
   ],
   "source": [
    "#Plot the closing price of Sanlam and CIC. Label your axes and include a legend\n",
    "\n",
    "\n",
    "fig, ax = plt.subplots(figsize=(15, 6))\n",
    "# Plot `df_slam` and `df_cic`\n",
    "df_sanlam[\"close\"].plot(ax=ax, label= \"SANLAM\", color=\"C2\")\n",
    "df_cic[\"close\"].plot(ax=ax, label= \"CIC\", color=\"C1\")\n",
    "\n",
    "# Label axes\n",
    "plt.xlabel(\"Date\")\n",
    "plt.ylabel(\"Closing Price\")\n",
    "\n",
    "\n",
    "\n",
    "# Add legend\n",
    "plt.legend();\n",
    "\n"
   ]
  },
  {
   "cell_type": "code",
   "execution_count": 73,
   "id": "a4fea3d0-74cb-4d6e-b7b6-840472f006b7",
   "metadata": {
    "tags": []
   },
   "outputs": [
    {
     "name": "stdout",
     "output_type": "stream",
     "text": [
      "df_slam shape: (470, 6)\n",
      "<class 'pandas.core.frame.DataFrame'>\n",
      "DatetimeIndex: 470 entries, 2021-04-20 to 2023-03-01\n",
      "Data columns (total 6 columns):\n",
      " #   Column  Non-Null Count  Dtype  \n",
      "---  ------  --------------  -----  \n",
      " 0   open    470 non-null    float64\n",
      " 1   high    470 non-null    float64\n",
      " 2   low     470 non-null    float64\n",
      " 3   close   470 non-null    float64\n",
      " 4   volume  470 non-null    float64\n",
      " 5   return  469 non-null    float64\n",
      "dtypes: float64(6)\n",
      "memory usage: 25.7 KB\n",
      "None\n"
     ]
    },
    {
     "data": {
      "text/html": [
       "<div>\n",
       "<style scoped>\n",
       "    .dataframe tbody tr th:only-of-type {\n",
       "        vertical-align: middle;\n",
       "    }\n",
       "\n",
       "    .dataframe tbody tr th {\n",
       "        vertical-align: top;\n",
       "    }\n",
       "\n",
       "    .dataframe thead th {\n",
       "        text-align: right;\n",
       "    }\n",
       "</style>\n",
       "<table border=\"1\" class=\"dataframe\">\n",
       "  <thead>\n",
       "    <tr style=\"text-align: right;\">\n",
       "      <th></th>\n",
       "      <th>open</th>\n",
       "      <th>high</th>\n",
       "      <th>low</th>\n",
       "      <th>close</th>\n",
       "      <th>volume</th>\n",
       "      <th>return</th>\n",
       "    </tr>\n",
       "    <tr>\n",
       "      <th>date</th>\n",
       "      <th></th>\n",
       "      <th></th>\n",
       "      <th></th>\n",
       "      <th></th>\n",
       "      <th></th>\n",
       "      <th></th>\n",
       "    </tr>\n",
       "  </thead>\n",
       "  <tbody>\n",
       "    <tr>\n",
       "      <th>2021-04-20</th>\n",
       "      <td>9.8100</td>\n",
       "      <td>9.92</td>\n",
       "      <td>9.54</td>\n",
       "      <td>9.8000</td>\n",
       "      <td>210036.0</td>\n",
       "      <td>NaN</td>\n",
       "    </tr>\n",
       "    <tr>\n",
       "      <th>2021-04-21</th>\n",
       "      <td>9.8000</td>\n",
       "      <td>9.84</td>\n",
       "      <td>9.78</td>\n",
       "      <td>9.8400</td>\n",
       "      <td>21055.0</td>\n",
       "      <td>0.408163</td>\n",
       "    </tr>\n",
       "    <tr>\n",
       "      <th>2021-04-22</th>\n",
       "      <td>9.8208</td>\n",
       "      <td>9.89</td>\n",
       "      <td>9.78</td>\n",
       "      <td>9.8000</td>\n",
       "      <td>40264.0</td>\n",
       "      <td>-0.406504</td>\n",
       "    </tr>\n",
       "    <tr>\n",
       "      <th>2021-04-23</th>\n",
       "      <td>9.7800</td>\n",
       "      <td>9.82</td>\n",
       "      <td>9.78</td>\n",
       "      <td>9.8000</td>\n",
       "      <td>9074.0</td>\n",
       "      <td>0.000000</td>\n",
       "    </tr>\n",
       "    <tr>\n",
       "      <th>2021-04-26</th>\n",
       "      <td>9.8000</td>\n",
       "      <td>9.80</td>\n",
       "      <td>9.78</td>\n",
       "      <td>9.7801</td>\n",
       "      <td>4217.0</td>\n",
       "      <td>-0.203061</td>\n",
       "    </tr>\n",
       "  </tbody>\n",
       "</table>\n",
       "</div>"
      ],
      "text/plain": [
       "              open  high   low   close    volume    return\n",
       "date                                                      \n",
       "2021-04-20  9.8100  9.92  9.54  9.8000  210036.0       NaN\n",
       "2021-04-21  9.8000  9.84  9.78  9.8400   21055.0  0.408163\n",
       "2021-04-22  9.8208  9.89  9.78  9.8000   40264.0 -0.406504\n",
       "2021-04-23  9.7800  9.82  9.78  9.8000    9074.0  0.000000\n",
       "2021-04-26  9.8000  9.80  9.78  9.7801    4217.0 -0.203061"
      ]
     },
     "execution_count": 73,
     "metadata": {},
     "output_type": "execute_result"
    }
   ],
   "source": [
    "##Add a \"return\" column to df_sanlam that shows the percentage change in the \"close\" column from one day to the next.\n",
    "\n",
    "\n",
    "# Sort DataFrame ascending by date\n",
    "df_sanlam.sort_index(ascending=True, inplace=True)\n",
    "\n",
    "# Create \"return\" column\n",
    "df_sanlam[\"return\"]=df_sanlam[\"close\"].pct_change() * 100\n",
    "\n",
    "print(\"df_slam shape:\", df_sanlam.shape)\n",
    "print(df_sanlam.info())\n",
    "df_sanlam.head()"
   ]
  },
  {
   "cell_type": "code",
   "execution_count": 74,
   "id": "5004ab48-dd5f-45cf-9305-c0e211f5ca77",
   "metadata": {
    "tags": []
   },
   "outputs": [
    {
     "name": "stdout",
     "output_type": "stream",
     "text": [
      "df_cic shape: (470, 6)\n",
      "<class 'pandas.core.frame.DataFrame'>\n",
      "DatetimeIndex: 470 entries, 2021-04-20 to 2023-03-01\n",
      "Data columns (total 6 columns):\n",
      " #   Column  Non-Null Count  Dtype  \n",
      "---  ------  --------------  -----  \n",
      " 0   open    470 non-null    float64\n",
      " 1   high    470 non-null    float64\n",
      " 2   low     470 non-null    float64\n",
      " 3   close   470 non-null    float64\n",
      " 4   volume  470 non-null    float64\n",
      " 5   return  469 non-null    float64\n",
      "dtypes: float64(6)\n",
      "memory usage: 25.7 KB\n",
      "None\n"
     ]
    },
    {
     "data": {
      "text/html": [
       "<div>\n",
       "<style scoped>\n",
       "    .dataframe tbody tr th:only-of-type {\n",
       "        vertical-align: middle;\n",
       "    }\n",
       "\n",
       "    .dataframe tbody tr th {\n",
       "        vertical-align: top;\n",
       "    }\n",
       "\n",
       "    .dataframe thead th {\n",
       "        text-align: right;\n",
       "    }\n",
       "</style>\n",
       "<table border=\"1\" class=\"dataframe\">\n",
       "  <thead>\n",
       "    <tr style=\"text-align: right;\">\n",
       "      <th></th>\n",
       "      <th>open</th>\n",
       "      <th>high</th>\n",
       "      <th>low</th>\n",
       "      <th>close</th>\n",
       "      <th>volume</th>\n",
       "      <th>return</th>\n",
       "    </tr>\n",
       "    <tr>\n",
       "      <th>date</th>\n",
       "      <th></th>\n",
       "      <th></th>\n",
       "      <th></th>\n",
       "      <th></th>\n",
       "      <th></th>\n",
       "      <th></th>\n",
       "    </tr>\n",
       "  </thead>\n",
       "  <tbody>\n",
       "    <tr>\n",
       "      <th>2021-04-20</th>\n",
       "      <td>10.23</td>\n",
       "      <td>10.23</td>\n",
       "      <td>9.55</td>\n",
       "      <td>9.62</td>\n",
       "      <td>139133.0</td>\n",
       "      <td>NaN</td>\n",
       "    </tr>\n",
       "    <tr>\n",
       "      <th>2021-04-21</th>\n",
       "      <td>9.62</td>\n",
       "      <td>10.03</td>\n",
       "      <td>9.50</td>\n",
       "      <td>9.95</td>\n",
       "      <td>101127.0</td>\n",
       "      <td>3.430353</td>\n",
       "    </tr>\n",
       "    <tr>\n",
       "      <th>2021-04-22</th>\n",
       "      <td>9.98</td>\n",
       "      <td>10.15</td>\n",
       "      <td>9.77</td>\n",
       "      <td>9.83</td>\n",
       "      <td>132050.0</td>\n",
       "      <td>-1.206030</td>\n",
       "    </tr>\n",
       "    <tr>\n",
       "      <th>2021-04-23</th>\n",
       "      <td>9.77</td>\n",
       "      <td>9.83</td>\n",
       "      <td>9.56</td>\n",
       "      <td>9.72</td>\n",
       "      <td>210142.0</td>\n",
       "      <td>-1.119023</td>\n",
       "    </tr>\n",
       "    <tr>\n",
       "      <th>2021-04-26</th>\n",
       "      <td>9.61</td>\n",
       "      <td>9.82</td>\n",
       "      <td>9.50</td>\n",
       "      <td>9.73</td>\n",
       "      <td>146792.0</td>\n",
       "      <td>0.102881</td>\n",
       "    </tr>\n",
       "  </tbody>\n",
       "</table>\n",
       "</div>"
      ],
      "text/plain": [
       "             open   high   low  close    volume    return\n",
       "date                                                     \n",
       "2021-04-20  10.23  10.23  9.55   9.62  139133.0       NaN\n",
       "2021-04-21   9.62  10.03  9.50   9.95  101127.0  3.430353\n",
       "2021-04-22   9.98  10.15  9.77   9.83  132050.0 -1.206030\n",
       "2021-04-23   9.77   9.83  9.56   9.72  210142.0 -1.119023\n",
       "2021-04-26   9.61   9.82  9.50   9.73  146792.0  0.102881"
      ]
     },
     "execution_count": 74,
     "metadata": {},
     "output_type": "execute_result"
    }
   ],
   "source": [
    "###Add a \"return\" column to df_cic that shows the percentage change in the \"close\" column from one day to the next.\n",
    "\n",
    "\n",
    "# Sort DataFrame ascending by date\n",
    "df_cic.sort_index(ascending=True, inplace=True)\n",
    "\n",
    "# Create \"return\" column\n",
    "df_cic[\"return\"]=df_cic[\"close\"].pct_change() * 100\n",
    "\n",
    "print(\"df_cic shape:\", df_cic.shape)\n",
    "print(df_cic.info())\n",
    "df_cic.head()"
   ]
  },
  {
   "cell_type": "code",
   "execution_count": 75,
   "id": "8520659f-6819-412d-a310-c4c6875d391c",
   "metadata": {
    "tags": []
   },
   "outputs": [
    {
     "data": {
      "image/png": "[encoded data removed]",
      "text/plain": [
       "<Figure size 1300x600 with 1 Axes>"
      ]
     },
     "metadata": {},
     "output_type": "display_data"
    }
   ],
   "source": [
    "#Plot the returns for df_sanlam and df_cic. Be sure to label your axes and use legend\n",
    "\n",
    "\n",
    "fig, ax = plt.subplots(figsize=(13, 6))\n",
    "# Plot `df_sanlam` and `df_cic`\n",
    "df_sanlam[\"return\"].plot(ax=ax, label= \"SANLAM\", color=\"C2\")\n",
    "df_cic[\"return\"].plot(ax=ax, label= \"CIC\", color=\"C1\")\n",
    "\n",
    "# Label axes\n",
    "plt.xlabel(\"Date\")\n",
    "plt.ylabel(\"Closing Price\")\n",
    "\n",
    "\n",
    "\n",
    "# Add legend\n",
    "plt.legend();"
   ]
  },
  {
   "cell_type": "markdown",
   "id": "cc2d3d68-78bb-48e6-ba8d-b861058e5fe6",
   "metadata": {},
   "source": [
    "By representing returns as a percentage, we're able to compare two stocks that have very different prices. The returns for CIC have a wider spread. We see big gains and big losses. In contrast, the spread for Sanlam extremely narrow, meaning that the price doesn't fluctuate as much.The choice on whether to trade CIC stock or Sanlam stock depends on the risk appetite of an investor. Highly volatile stocks generally have a potential to have more returns and therefore more profit for the investors. However they are riskier and have a higher potential of making huge losses as compared to less volatile stocks"
   ]
  },
  {
   "cell_type": "code",
   "execution_count": null,
   "id": "ee554516-8b55-4d9f-ab7d-bf5fa52e8da7",
   "metadata": {},
   "outputs": [],
   "source": []
  }
 ],
 "metadata": {
  "kernelspec": {
   "display_name": "Python 3 (ipykernel)",
   "language": "python",
   "name": "python3"
  },
  "language_info": {
   "codemirror_mode": {
    "name": "ipython",
    "version": 3
   },
   "file_extension": ".py",
   "mimetype": "text/x-python",
   "name": "python",
   "nbconvert_exporter": "python",
   "pygments_lexer": "ipython3",
   "version": "3.10.4"
  },
  "toc-autonumbering": true,
  "toc-showmarkdowntxt": true
 },
 "nbformat": 4,
 "nbformat_minor": 5
}
