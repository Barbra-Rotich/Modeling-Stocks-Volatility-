{
 "cells": [
  {
   "cell_type": "markdown",
   "id": "363aa937-e953-41ef-bf53-f363a44f6c99",
   "metadata": {},
   "source": [
    "1 Getting data from APIs\n"
   ]
  },
  {
   "cell_type": "code",
   "execution_count": 2,
   "id": "46ae8afa-15cf-4701-a0a1-6ee48c018678",
   "metadata": {
    "tags": []
   },
   "outputs": [],
   "source": [
    "import pandas as pd\n",
    "import requests\n"
   ]
  },
  {
   "cell_type": "markdown",
   "id": "3a74a126-49cd-4352-a3f1-f8ca0ca3fe1e",
   "metadata": {},
   "source": [
    "1.1 Accessing APIs Through a URL\n",
    "\n",
    "For this project, I'll extract stock market information from the AlphaVantage API.\n",
    "First,get my own API key and save it in a .env file. Import it into the code base by creating a config module.\n"
   ]
  },
  {
   "cell_type": "raw",
   "id": "561e80f0-54cf-4c6c-bad6-3d78829ed7f4",
   "metadata": {},
   "source": [
    "Using the URL above as a model, create a new URL to get the data for Safaricom. The ticker symbol for this company is: \"SCOM\""
   ]
  },
  {
   "cell_type": "code",
   "execution_count": 3,
   "id": "d4f4e479-fba5-4097-9bc9-4e872aa2cc03",
   "metadata": {},
   "outputs": [
    {
     "data": {
      "text/plain": [
       "['Config',\n",
       " '__abstractmethods__',\n",
       " '__annotations__',\n",
       " '__class__',\n",
       " '__class_vars__',\n",
       " '__config__',\n",
       " '__custom_root_type__',\n",
       " '__delattr__',\n",
       " '__dict__',\n",
       " '__dir__',\n",
       " '__doc__',\n",
       " '__eq__',\n",
       " '__exclude_fields__',\n",
       " '__fields__',\n",
       " '__fields_set__',\n",
       " '__format__',\n",
       " '__ge__',\n",
       " '__get_validators__',\n",
       " '__getattribute__',\n",
       " '__getstate__',\n",
       " '__gt__',\n",
       " '__hash__',\n",
       " '__include_fields__',\n",
       " '__init__',\n",
       " '__init_subclass__',\n",
       " '__iter__',\n",
       " '__json_encoder__',\n",
       " '__le__',\n",
       " '__lt__',\n",
       " '__module__',\n",
       " '__ne__',\n",
       " '__new__',\n",
       " '__post_root_validators__',\n",
       " '__pre_root_validators__',\n",
       " '__pretty__',\n",
       " '__private_attributes__',\n",
       " '__reduce__',\n",
       " '__reduce_ex__',\n",
       " '__repr__',\n",
       " '__repr_args__',\n",
       " '__repr_name__',\n",
       " '__repr_str__',\n",
       " '__rich_repr__',\n",
       " '__schema_cache__',\n",
       " '__setattr__',\n",
       " '__setstate__',\n",
       " '__signature__',\n",
       " '__sizeof__',\n",
       " '__slots__',\n",
       " '__str__',\n",
       " '__subclasshook__',\n",
       " '__try_update_forward_refs__',\n",
       " '__validators__',\n",
       " '_abc_impl',\n",
       " '_build_values',\n",
       " '_calculate_keys',\n",
       " '_copy_and_set_values',\n",
       " '_decompose_class',\n",
       " '_enforce_dict_if_root',\n",
       " '_get_value',\n",
       " '_init_private_attributes',\n",
       " '_iter',\n",
       " 'alpha_api_key',\n",
       " 'construct',\n",
       " 'copy',\n",
       " 'db_name',\n",
       " 'dict',\n",
       " 'from_orm',\n",
       " 'json',\n",
       " 'model_directory',\n",
       " 'parse_file',\n",
       " 'parse_obj',\n",
       " 'parse_raw',\n",
       " 'schema',\n",
       " 'schema_json',\n",
       " 'update_forward_refs',\n",
       " 'validate']"
      ]
     },
     "execution_count": 3,
     "metadata": {},
     "output_type": "execute_result"
    }
   ],
   "source": [
    "# Import settings\n",
    "from config import settings\n",
    "\n",
    "# Use `dir` to list attributes\n",
    "dir(settings)"
   ]
  },
  {
   "cell_type": "code",
   "execution_count": 4,
   "id": "d1800d9a-df75-4e75-8a80-f07577cbbd58",
   "metadata": {
    "tags": []
   },
   "outputs": [
    {
     "name": "stdout",
     "output_type": "stream",
     "text": [
      "url type: <class 'str'>\n"
     ]
    },
    {
     "data": {
      "text/plain": [
       "'https://learn-api.wqu.edu/1/data-services/alpha-vantage/query?function=TIME_SERIES_DAILY&symbol=SCOM&outputsize=compact&datatype=json&apikey=ddf36331cfed136083139698889a37becd4236455a9458027e11fc05f25e7639b76d08270cda161f1550d7fc1bb675ca6a3a90ac6246d080028f00e7954020d604d2e7dac7d96f7aae7854839557e328531f4de8222907c21eab51b815bebf1db1d27bfac633c02b1c69e70912f587c2c25dcb2f1265af35d3a96391ef3d2dfd'"
      ]
     },
     "execution_count": 4,
     "metadata": {},
     "output_type": "execute_result"
    }
   ],
   "source": [
    "#Create a URL to obtain \"SCOM\" (Safaricom) data\n",
    "ticker = \"SCOM\"\n",
    "output_size = \"compact\"\n",
    "data_type = \"json\"\n",
    "\n",
    "url = (\n",
    "    \"https://learn-api.wqu.edu/1/data-services/alpha-vantage/query?\"\n",
    "    \"function=TIME_SERIES_DAILY&\"\n",
    "    f\"symbol={ticker}&\"\n",
    "    f\"outputsize={output_size}&\"\n",
    "    f\"datatype={data_type}&\"\n",
    "    f\"apikey={settings.alpha_api_key}\"\n",
    ")\n",
    "print(\"url type:\", type(url))\n",
    "url"
   ]
  },
  {
   "cell_type": "markdown",
   "id": "f494364b-9d99-477a-91da-cf9f01b45d26",
   "metadata": {},
   "source": [
    "1.2 Accessing APIs Through a Request\n",
    "\n",
    "To build applications, we need to access the data via requests as opposed to the url links since computer programs access APIs by making requests.I'll build the first request by using the url created above then use the requests library to make a get request to the URL and Assign the response to the variable 'response'\n"
   ]
  },
  {
   "cell_type": "code",
   "execution_count": 5,
   "id": "60595bfd-e8d1-4088-b726-a6dc33f942c9",
   "metadata": {
    "tags": []
   },
   "outputs": [
    {
     "name": "stdout",
     "output_type": "stream",
     "text": [
      "response type: <class 'requests.models.Response'>\n"
     ]
    }
   ],
   "source": [
    "response = requests.get(url=url)\n",
    "\n",
    "print(\"response type:\", type(response))"
   ]
  },
  {
   "cell_type": "code",
   "execution_count": 6,
   "id": "a49da141-ec5a-4265-aa02-94a9b923172b",
   "metadata": {
    "tags": []
   },
   "outputs": [
    {
     "data": {
      "text/plain": [
       "['__attrs__',\n",
       " '__bool__',\n",
       " '__class__',\n",
       " '__delattr__',\n",
       " '__dict__',\n",
       " '__dir__',\n",
       " '__doc__',\n",
       " '__enter__',\n",
       " '__eq__',\n",
       " '__exit__',\n",
       " '__format__',\n",
       " '__ge__',\n",
       " '__getattribute__',\n",
       " '__getstate__',\n",
       " '__gt__',\n",
       " '__hash__',\n",
       " '__init__',\n",
       " '__init_subclass__',\n",
       " '__iter__',\n",
       " '__le__',\n",
       " '__lt__',\n",
       " '__module__',\n",
       " '__ne__',\n",
       " '__new__',\n",
       " '__nonzero__',\n",
       " '__reduce__',\n",
       " '__reduce_ex__',\n",
       " '__repr__',\n",
       " '__setattr__',\n",
       " '__setstate__',\n",
       " '__sizeof__',\n",
       " '__str__',\n",
       " '__subclasshook__',\n",
       " '__weakref__',\n",
       " '_content',\n",
       " '_content_consumed',\n",
       " '_next',\n",
       " 'apparent_encoding',\n",
       " 'close',\n",
       " 'connection',\n",
       " 'content',\n",
       " 'cookies',\n",
       " 'elapsed',\n",
       " 'encoding',\n",
       " 'headers',\n",
       " 'history',\n",
       " 'is_permanent_redirect',\n",
       " 'is_redirect',\n",
       " 'iter_content',\n",
       " 'iter_lines',\n",
       " 'json',\n",
       " 'links',\n",
       " 'next',\n",
       " 'ok',\n",
       " 'raise_for_status',\n",
       " 'raw',\n",
       " 'reason',\n",
       " 'request',\n",
       " 'status_code',\n",
       " 'text',\n",
       " 'url']"
      ]
     },
     "execution_count": 6,
     "metadata": {},
     "output_type": "execute_result"
    }
   ],
   "source": [
    "# Use `dir` on your `response`\n",
    "dir(response)"
   ]
  },
  {
   "cell_type": "code",
   "execution_count": 7,
   "id": "7dd2a3a0-8f49-4b20-95b7-21229846f88a",
   "metadata": {
    "tags": []
   },
   "outputs": [
    {
     "name": "stdout",
     "output_type": "stream",
     "text": [
      "code type: <class 'int'>\n"
     ]
    },
    {
     "data": {
      "text/plain": [
       "200"
      ]
     },
     "execution_count": 7,
     "metadata": {},
     "output_type": "execute_result"
    }
   ],
   "source": [
    "#Assign the status code for your response to the variable response_code.200 means \"OK\". It's the standard response for a successful HTTP request\n",
    "response_code = response.status_code\n",
    "\n",
    "print(\"code type:\", type(response_code))\n",
    "response_code"
   ]
  },
  {
   "cell_type": "code",
   "execution_count": 8,
   "id": "bb9085c1-198b-4ec5-9d93-f62854310b03",
   "metadata": {
    "tags": []
   },
   "outputs": [
    {
     "name": "stdout",
     "output_type": "stream",
     "text": [
      "response_text type: <class 'str'>\n",
      "{\n",
      "    \"Meta Data\": {\n",
      "        \"1. Information\": \"Daily Prices (open, high, low, close) and Volumes\",\n",
      "        \"2. Symbol\": \"SCOM\",\n",
      "        \"3. Last Refreshed\": \"2020-03-27\",\n",
      "        \"4. Output Size\": \"C\n"
     ]
    }
   ],
   "source": [
    "#Assign the test for your response to the variable response_text\n",
    "response_text = response.text\n",
    "\n",
    "print(\"response_text type:\", type(response_text))\n",
    "print(response_text[:200])"
   ]
  },
  {
   "cell_type": "code",
   "execution_count": 9,
   "id": "66423c87-0b00-4404-b8a8-bf28de972985",
   "metadata": {
    "tags": []
   },
   "outputs": [
    {
     "name": "stdout",
     "output_type": "stream",
     "text": [
      "code type: <class 'int'>\n"
     ]
    },
    {
     "data": {
      "text/plain": [
       "200"
      ]
     },
     "execution_count": 9,
     "metadata": {},
     "output_type": "execute_result"
    }
   ],
   "source": [
    "#Assign the status code for your response to the variable response_code. 200 means \"ok\" .In other words, it worked! We successfully received data back from the AlphaVantage API.\n",
    "response_code = response.status_code\n",
    "\n",
    "print(\"code type:\", type(response_code))\n",
    "response_code"
   ]
  },
  {
   "cell_type": "code",
   "execution_count": 10,
   "id": "454430f9-6718-40fc-8de7-857782c007d4",
   "metadata": {
    "tags": []
   },
   "outputs": [
    {
     "name": "stdout",
     "output_type": "stream",
     "text": [
      "response_data type: <class 'dict'>\n"
     ]
    }
   ],
   "source": [
    "#Use json method to access a dictionary version of the data. Assign it to the variable name response_data\n",
    "response_data = response.json()\n",
    "\n",
    "print(\"response_data type:\", type(response_data))"
   ]
  },
  {
   "cell_type": "code",
   "execution_count": 11,
   "id": "158e5d01-3cbd-444a-9846-ff4b2a294254",
   "metadata": {
    "tags": []
   },
   "outputs": [
    {
     "data": {
      "text/plain": [
       "dict_keys(['Meta Data', 'Time Series (Daily)'])"
      ]
     },
     "execution_count": 11,
     "metadata": {},
     "output_type": "execute_result"
    }
   ],
   "source": [
    "# Print `response_data` keys\n",
    "response_data.keys()"
   ]
  },
  {
   "cell_type": "code",
   "execution_count": 12,
   "id": "375b7d32-0217-4792-8f7b-a3e09516efba",
   "metadata": {
    "tags": []
   },
   "outputs": [
    {
     "name": "stdout",
     "output_type": "stream",
     "text": [
      "stock_data type: <class 'dict'>\n"
     ]
    },
    {
     "data": {
      "text/plain": [
       "{'1. open': '16.9600',\n",
       " '2. high': '16.9600',\n",
       " '3. low': '16.7280',\n",
       " '4. close': '16.7280',\n",
       " '5. volume': '1152'}"
      ]
     },
     "execution_count": 12,
     "metadata": {},
     "output_type": "execute_result"
    }
   ],
   "source": [
    "# Extract `\"Time Series (Daily)\"` value from `response_data`\n",
    "stock_data = response_data[\"Time Series (Daily)\"]\n",
    "\n",
    "print(\"stock_data type:\", type(stock_data))\n",
    "\n",
    "# Extract data for one of the days in `stock_data`\n",
    "stock_data['2020-02-20']"
   ]
  },
  {
   "cell_type": "code",
   "execution_count": 13,
   "id": "b0a7a8c4-6880-4b75-a2ec-fb962a40da32",
   "metadata": {
    "tags": []
   },
   "outputs": [
    {
     "name": "stdout",
     "output_type": "stream",
     "text": [
      "df_safaricom shape: (100, 5)\n",
      "\n",
      "<class 'pandas.core.frame.DataFrame'>\n",
      "Index: 100 entries, 2020-03-27 to 2019-11-04\n",
      "Data columns (total 5 columns):\n",
      " #   Column     Non-Null Count  Dtype  \n",
      "---  ------     --------------  -----  \n",
      " 0   1. open    100 non-null    float64\n",
      " 1   2. high    100 non-null    float64\n",
      " 2   3. low     100 non-null    float64\n",
      " 3   4. close   100 non-null    float64\n",
      " 4   5. volume  100 non-null    float64\n",
      "dtypes: float64(5)\n",
      "memory usage: 4.7+ KB\n",
      "None\n"
     ]
    },
    {
     "data": {
      "text/html": [
       "<div>\n",
       "<style scoped>\n",
       "    .dataframe tbody tr th:only-of-type {\n",
       "        vertical-align: middle;\n",
       "    }\n",
       "\n",
       "    .dataframe tbody tr th {\n",
       "        vertical-align: top;\n",
       "    }\n",
       "\n",
       "    .dataframe thead th {\n",
       "        text-align: right;\n",
       "    }\n",
       "</style>\n",
       "<table border=\"1\" class=\"dataframe\">\n",
       "  <thead>\n",
       "    <tr style=\"text-align: right;\">\n",
       "      <th></th>\n",
       "      <th>1. open</th>\n",
       "      <th>2. high</th>\n",
       "      <th>3. low</th>\n",
       "      <th>4. close</th>\n",
       "      <th>5. volume</th>\n",
       "    </tr>\n",
       "  </thead>\n",
       "  <tbody>\n",
       "    <tr>\n",
       "      <th>2020-03-27</th>\n",
       "      <td>24.8841</td>\n",
       "      <td>24.8841</td>\n",
       "      <td>24.8841</td>\n",
       "      <td>24.8841</td>\n",
       "      <td>14.0</td>\n",
       "    </tr>\n",
       "    <tr>\n",
       "      <th>2020-03-26</th>\n",
       "      <td>24.8841</td>\n",
       "      <td>24.8841</td>\n",
       "      <td>24.8841</td>\n",
       "      <td>24.8841</td>\n",
       "      <td>1.0</td>\n",
       "    </tr>\n",
       "    <tr>\n",
       "      <th>2020-03-25</th>\n",
       "      <td>29.8920</td>\n",
       "      <td>29.8920</td>\n",
       "      <td>29.8920</td>\n",
       "      <td>29.8920</td>\n",
       "      <td>0.0</td>\n",
       "    </tr>\n",
       "    <tr>\n",
       "      <th>2020-03-24</th>\n",
       "      <td>28.7573</td>\n",
       "      <td>28.7573</td>\n",
       "      <td>28.7573</td>\n",
       "      <td>28.7573</td>\n",
       "      <td>421.0</td>\n",
       "    </tr>\n",
       "    <tr>\n",
       "      <th>2020-03-23</th>\n",
       "      <td>35.5000</td>\n",
       "      <td>35.5000</td>\n",
       "      <td>35.5000</td>\n",
       "      <td>35.5000</td>\n",
       "      <td>92.0</td>\n",
       "    </tr>\n",
       "    <tr>\n",
       "      <th>2020-03-20</th>\n",
       "      <td>35.5000</td>\n",
       "      <td>35.5000</td>\n",
       "      <td>35.5000</td>\n",
       "      <td>35.5000</td>\n",
       "      <td>5.0</td>\n",
       "    </tr>\n",
       "    <tr>\n",
       "      <th>2020-03-19</th>\n",
       "      <td>34.0200</td>\n",
       "      <td>34.0200</td>\n",
       "      <td>31.8600</td>\n",
       "      <td>31.8600</td>\n",
       "      <td>410.0</td>\n",
       "    </tr>\n",
       "    <tr>\n",
       "      <th>2020-03-18</th>\n",
       "      <td>34.2400</td>\n",
       "      <td>38.1705</td>\n",
       "      <td>34.2400</td>\n",
       "      <td>34.4913</td>\n",
       "      <td>795.0</td>\n",
       "    </tr>\n",
       "    <tr>\n",
       "      <th>2020-03-17</th>\n",
       "      <td>34.7460</td>\n",
       "      <td>34.7460</td>\n",
       "      <td>34.7460</td>\n",
       "      <td>34.7460</td>\n",
       "      <td>76.0</td>\n",
       "    </tr>\n",
       "    <tr>\n",
       "      <th>2020-03-16</th>\n",
       "      <td>31.9800</td>\n",
       "      <td>34.7460</td>\n",
       "      <td>31.9800</td>\n",
       "      <td>34.7460</td>\n",
       "      <td>2387.0</td>\n",
       "    </tr>\n",
       "  </tbody>\n",
       "</table>\n",
       "</div>"
      ],
      "text/plain": [
       "            1. open  2. high   3. low  4. close  5. volume\n",
       "2020-03-27  24.8841  24.8841  24.8841   24.8841       14.0\n",
       "2020-03-26  24.8841  24.8841  24.8841   24.8841        1.0\n",
       "2020-03-25  29.8920  29.8920  29.8920   29.8920        0.0\n",
       "2020-03-24  28.7573  28.7573  28.7573   28.7573      421.0\n",
       "2020-03-23  35.5000  35.5000  35.5000   35.5000       92.0\n",
       "2020-03-20  35.5000  35.5000  35.5000   35.5000        5.0\n",
       "2020-03-19  34.0200  34.0200  31.8600   31.8600      410.0\n",
       "2020-03-18  34.2400  38.1705  34.2400   34.4913      795.0\n",
       "2020-03-17  34.7460  34.7460  34.7460   34.7460       76.0\n",
       "2020-03-16  31.9800  34.7460  31.9800   34.7460     2387.0"
      ]
     },
     "execution_count": 13,
     "metadata": {},
     "output_type": "execute_result"
    }
   ],
   "source": [
    "#Read the data into a dataframe\n",
    "df_safaricom = pd.DataFrame.from_dict(stock_data, orient=\"index\", dtype=float)\n",
    "\n",
    "print(\"df_safaricom shape:\", df_safaricom.shape)\n",
    "print()\n",
    "print(df_safaricom.info())\n",
    "df_safaricom.head(10)"
   ]
  },
  {
   "cell_type": "code",
   "execution_count": 14,
   "id": "8ba5462f-3feb-4a8f-8f2a-92fca4553177",
   "metadata": {
    "tags": []
   },
   "outputs": [
    {
     "name": "stdout",
     "output_type": "stream",
     "text": [
      "<class 'pandas.core.frame.DataFrame'>\n",
      "DatetimeIndex: 100 entries, 2020-03-27 to 2019-11-04\n",
      "Data columns (total 5 columns):\n",
      " #   Column     Non-Null Count  Dtype  \n",
      "---  ------     --------------  -----  \n",
      " 0   1. open    100 non-null    float64\n",
      " 1   2. high    100 non-null    float64\n",
      " 2   3. low     100 non-null    float64\n",
      " 3   4. close   100 non-null    float64\n",
      " 4   5. volume  100 non-null    float64\n",
      "dtypes: float64(5)\n",
      "memory usage: 4.7 KB\n",
      "None\n"
     ]
    },
    {
     "data": {
      "text/html": [
       "<div>\n",
       "<style scoped>\n",
       "    .dataframe tbody tr th:only-of-type {\n",
       "        vertical-align: middle;\n",
       "    }\n",
       "\n",
       "    .dataframe tbody tr th {\n",
       "        vertical-align: top;\n",
       "    }\n",
       "\n",
       "    .dataframe thead th {\n",
       "        text-align: right;\n",
       "    }\n",
       "</style>\n",
       "<table border=\"1\" class=\"dataframe\">\n",
       "  <thead>\n",
       "    <tr style=\"text-align: right;\">\n",
       "      <th></th>\n",
       "      <th>1. open</th>\n",
       "      <th>2. high</th>\n",
       "      <th>3. low</th>\n",
       "      <th>4. close</th>\n",
       "      <th>5. volume</th>\n",
       "    </tr>\n",
       "    <tr>\n",
       "      <th>date</th>\n",
       "      <th></th>\n",
       "      <th></th>\n",
       "      <th></th>\n",
       "      <th></th>\n",
       "      <th></th>\n",
       "    </tr>\n",
       "  </thead>\n",
       "  <tbody>\n",
       "    <tr>\n",
       "      <th>2020-03-27</th>\n",
       "      <td>24.8841</td>\n",
       "      <td>24.8841</td>\n",
       "      <td>24.8841</td>\n",
       "      <td>24.8841</td>\n",
       "      <td>14.0</td>\n",
       "    </tr>\n",
       "    <tr>\n",
       "      <th>2020-03-26</th>\n",
       "      <td>24.8841</td>\n",
       "      <td>24.8841</td>\n",
       "      <td>24.8841</td>\n",
       "      <td>24.8841</td>\n",
       "      <td>1.0</td>\n",
       "    </tr>\n",
       "    <tr>\n",
       "      <th>2020-03-25</th>\n",
       "      <td>29.8920</td>\n",
       "      <td>29.8920</td>\n",
       "      <td>29.8920</td>\n",
       "      <td>29.8920</td>\n",
       "      <td>0.0</td>\n",
       "    </tr>\n",
       "    <tr>\n",
       "      <th>2020-03-24</th>\n",
       "      <td>28.7573</td>\n",
       "      <td>28.7573</td>\n",
       "      <td>28.7573</td>\n",
       "      <td>28.7573</td>\n",
       "      <td>421.0</td>\n",
       "    </tr>\n",
       "    <tr>\n",
       "      <th>2020-03-23</th>\n",
       "      <td>35.5000</td>\n",
       "      <td>35.5000</td>\n",
       "      <td>35.5000</td>\n",
       "      <td>35.5000</td>\n",
       "      <td>92.0</td>\n",
       "    </tr>\n",
       "  </tbody>\n",
       "</table>\n",
       "</div>"
      ],
      "text/plain": [
       "            1. open  2. high   3. low  4. close  5. volume\n",
       "date                                                      \n",
       "2020-03-27  24.8841  24.8841  24.8841   24.8841       14.0\n",
       "2020-03-26  24.8841  24.8841  24.8841   24.8841        1.0\n",
       "2020-03-25  29.8920  29.8920  29.8920   29.8920        0.0\n",
       "2020-03-24  28.7573  28.7573  28.7573   28.7573      421.0\n",
       "2020-03-23  35.5000  35.5000  35.5000   35.5000       92.0"
      ]
     },
     "execution_count": 14,
     "metadata": {},
     "output_type": "execute_result"
    }
   ],
   "source": [
    "# Convert `df_ambuja` index to `DatetimeIndex`\n",
    "df_safaricom.index=pd.to_datetime(df_safaricom.index)\n",
    "\n",
    "# Name index \"date\"\n",
    "df_safaricom.index.name=\"date\"\n",
    "\n",
    "print(df_safaricom.info())\n",
    "df_safaricom.head()"
   ]
  },
  {
   "cell_type": "code",
   "execution_count": 15,
   "id": "adefad76-a23e-43d0-b175-98eb60e1ebfc",
   "metadata": {
    "tags": []
   },
   "outputs": [
    {
     "name": "stdout",
     "output_type": "stream",
     "text": [
      "<class 'pandas.core.frame.DataFrame'>\n",
      "DatetimeIndex: 100 entries, 2020-03-27 to 2019-11-04\n",
      "Data columns (total 5 columns):\n",
      " #   Column  Non-Null Count  Dtype  \n",
      "---  ------  --------------  -----  \n",
      " 0   open    100 non-null    float64\n",
      " 1   high    100 non-null    float64\n",
      " 2   low     100 non-null    float64\n",
      " 3   close   100 non-null    float64\n",
      " 4   volume  100 non-null    float64\n",
      "dtypes: float64(5)\n",
      "memory usage: 4.7 KB\n",
      "None\n"
     ]
    },
    {
     "data": {
      "text/html": [
       "<div>\n",
       "<style scoped>\n",
       "    .dataframe tbody tr th:only-of-type {\n",
       "        vertical-align: middle;\n",
       "    }\n",
       "\n",
       "    .dataframe tbody tr th {\n",
       "        vertical-align: top;\n",
       "    }\n",
       "\n",
       "    .dataframe thead th {\n",
       "        text-align: right;\n",
       "    }\n",
       "</style>\n",
       "<table border=\"1\" class=\"dataframe\">\n",
       "  <thead>\n",
       "    <tr style=\"text-align: right;\">\n",
       "      <th></th>\n",
       "      <th>open</th>\n",
       "      <th>high</th>\n",
       "      <th>low</th>\n",
       "      <th>close</th>\n",
       "      <th>volume</th>\n",
       "    </tr>\n",
       "    <tr>\n",
       "      <th>date</th>\n",
       "      <th></th>\n",
       "      <th></th>\n",
       "      <th></th>\n",
       "      <th></th>\n",
       "      <th></th>\n",
       "    </tr>\n",
       "  </thead>\n",
       "  <tbody>\n",
       "    <tr>\n",
       "      <th>2020-03-27</th>\n",
       "      <td>24.8841</td>\n",
       "      <td>24.8841</td>\n",
       "      <td>24.8841</td>\n",
       "      <td>24.8841</td>\n",
       "      <td>14.0</td>\n",
       "    </tr>\n",
       "    <tr>\n",
       "      <th>2020-03-26</th>\n",
       "      <td>24.8841</td>\n",
       "      <td>24.8841</td>\n",
       "      <td>24.8841</td>\n",
       "      <td>24.8841</td>\n",
       "      <td>1.0</td>\n",
       "    </tr>\n",
       "    <tr>\n",
       "      <th>2020-03-25</th>\n",
       "      <td>29.8920</td>\n",
       "      <td>29.8920</td>\n",
       "      <td>29.8920</td>\n",
       "      <td>29.8920</td>\n",
       "      <td>0.0</td>\n",
       "    </tr>\n",
       "    <tr>\n",
       "      <th>2020-03-24</th>\n",
       "      <td>28.7573</td>\n",
       "      <td>28.7573</td>\n",
       "      <td>28.7573</td>\n",
       "      <td>28.7573</td>\n",
       "      <td>421.0</td>\n",
       "    </tr>\n",
       "    <tr>\n",
       "      <th>2020-03-23</th>\n",
       "      <td>35.5000</td>\n",
       "      <td>35.5000</td>\n",
       "      <td>35.5000</td>\n",
       "      <td>35.5000</td>\n",
       "      <td>92.0</td>\n",
       "    </tr>\n",
       "  </tbody>\n",
       "</table>\n",
       "</div>"
      ],
      "text/plain": [
       "               open     high      low    close  volume\n",
       "date                                                  \n",
       "2020-03-27  24.8841  24.8841  24.8841  24.8841    14.0\n",
       "2020-03-26  24.8841  24.8841  24.8841  24.8841     1.0\n",
       "2020-03-25  29.8920  29.8920  29.8920  29.8920     0.0\n",
       "2020-03-24  28.7573  28.7573  28.7573  28.7573   421.0\n",
       "2020-03-23  35.5000  35.5000  35.5000  35.5000    92.0"
      ]
     },
     "execution_count": 15,
     "metadata": {},
     "output_type": "execute_result"
    }
   ],
   "source": [
    "# Remove numbering from `df_safaricom` column names\n",
    "df_safaricom.columns = [c.split(\". \")[1] for c in df_safaricom.columns]\n",
    "\n",
    "print(df_safaricom.info())\n",
    "df_safaricom.head()"
   ]
  },
  {
   "cell_type": "markdown",
   "id": "70ba3458-4bd4-4382-8ed6-5475abde04ef",
   "metadata": {},
   "source": [
    "2. Defensive Programming\n",
    "\n",
    "Defensive programming is the practice of writing code which will continue to function, even if something goes wrong."
   ]
  },
  {
   "cell_type": "code",
   "execution_count": 16,
   "id": "f1b79a5b-91ed-46c4-a818-86c0bf55793b",
   "metadata": {
    "tags": []
   },
   "outputs": [],
   "source": [
    "def get_daily(ticker,output_size):\n",
    "\n",
    "    \"\"\"Get daily time series of an equity from AlphaVantage API.\n",
    "\n",
    "    Parameters\n",
    "    ----------\n",
    "    ticker : str\n",
    "        The ticker symbol of the equity.\n",
    "    output_size : str, optional\n",
    "        Number of observations to retrieve. \"compact\" returns the\n",
    "        latest 100 observations. \"full\" returns all observations for\n",
    "        equity. By default \"full\".\n",
    "\n",
    "    Returns\n",
    "    -------\n",
    "    pd.DataFrame\n",
    "        Columns are 'open', 'high', 'low', 'close', and 'volume'.\n",
    "        All are numeric.\n",
    "    \"\"\"\n",
    "    # Create URL (8.1.5)\n",
    "    url = (\n",
    "        \"https://learn-api.wqu.edu/1/data-services/alpha-vantage/query?\"\n",
    "        \"function=TIME_SERIES_DAILY&\"\n",
    "        f\"symbol={ticker}&\"\n",
    "        f\"outputsize={output_size}&\"\n",
    "        f\"datatype=json&\"\n",
    "        f\"apikey={settings.alpha_api_key}\"\n",
    "    )\n",
    "\n",
    "    # Send request to API (8.1.6)\n",
    "    response = requests.get(url=url)\n",
    "    # Extract JSON data from response (8.1.10)\n",
    "    response_data = response.json()\n",
    "    if \"Time Series (Daily)\" not in response_data.keys():\n",
    "        raise Exception(\n",
    "            f\"invalid API call. Check that the {ticker} symbol is correct\"\n",
    "        )\n",
    "    # Read data into DataFrame (8.1.12 & 8.1.13)\n",
    "    stock_data = response_data[\"Time Series (Daily)\"]\n",
    "    df = pd.DataFrame.from_dict(stock_data, orient=\"index\", dtype=float)\n",
    "\n",
    "    # Convert index to `DatetimeIndex` named \"date\" (8.1.14)\n",
    "    df.index=pd.to_datetime(df.index)\n",
    "    df.index.name=\"date\"\n",
    "\n",
    "    # Remove numbering from columns (8.1.15)\n",
    "    df.columns = [c.split(\". \")[1] for c in df.columns]\n",
    "\n",
    "    # Return DataFrame\n",
    "    return df"
   ]
  },
  {
   "cell_type": "code",
   "execution_count": 17,
   "id": "8f746a9e-f391-4399-bbcd-d56c7bfe310a",
   "metadata": {
    "tags": []
   },
   "outputs": [
    {
     "name": "stdout",
     "output_type": "stream",
     "text": [
      "<class 'pandas.core.frame.DataFrame'>\n",
      "DatetimeIndex: 100 entries, 2020-03-27 to 2019-11-04\n",
      "Data columns (total 5 columns):\n",
      " #   Column  Non-Null Count  Dtype  \n",
      "---  ------  --------------  -----  \n",
      " 0   open    100 non-null    float64\n",
      " 1   high    100 non-null    float64\n",
      " 2   low     100 non-null    float64\n",
      " 3   close   100 non-null    float64\n",
      " 4   volume  100 non-null    float64\n",
      "dtypes: float64(5)\n",
      "memory usage: 4.7 KB\n",
      "None\n"
     ]
    },
    {
     "data": {
      "text/html": [
       "<div>\n",
       "<style scoped>\n",
       "    .dataframe tbody tr th:only-of-type {\n",
       "        vertical-align: middle;\n",
       "    }\n",
       "\n",
       "    .dataframe tbody tr th {\n",
       "        vertical-align: top;\n",
       "    }\n",
       "\n",
       "    .dataframe thead th {\n",
       "        text-align: right;\n",
       "    }\n",
       "</style>\n",
       "<table border=\"1\" class=\"dataframe\">\n",
       "  <thead>\n",
       "    <tr style=\"text-align: right;\">\n",
       "      <th></th>\n",
       "      <th>open</th>\n",
       "      <th>high</th>\n",
       "      <th>low</th>\n",
       "      <th>close</th>\n",
       "      <th>volume</th>\n",
       "    </tr>\n",
       "    <tr>\n",
       "      <th>date</th>\n",
       "      <th></th>\n",
       "      <th></th>\n",
       "      <th></th>\n",
       "      <th></th>\n",
       "      <th></th>\n",
       "    </tr>\n",
       "  </thead>\n",
       "  <tbody>\n",
       "    <tr>\n",
       "      <th>2020-03-27</th>\n",
       "      <td>24.8841</td>\n",
       "      <td>24.8841</td>\n",
       "      <td>24.8841</td>\n",
       "      <td>24.8841</td>\n",
       "      <td>14.0</td>\n",
       "    </tr>\n",
       "    <tr>\n",
       "      <th>2020-03-26</th>\n",
       "      <td>24.8841</td>\n",
       "      <td>24.8841</td>\n",
       "      <td>24.8841</td>\n",
       "      <td>24.8841</td>\n",
       "      <td>1.0</td>\n",
       "    </tr>\n",
       "    <tr>\n",
       "      <th>2020-03-25</th>\n",
       "      <td>29.8920</td>\n",
       "      <td>29.8920</td>\n",
       "      <td>29.8920</td>\n",
       "      <td>29.8920</td>\n",
       "      <td>0.0</td>\n",
       "    </tr>\n",
       "    <tr>\n",
       "      <th>2020-03-24</th>\n",
       "      <td>28.7573</td>\n",
       "      <td>28.7573</td>\n",
       "      <td>28.7573</td>\n",
       "      <td>28.7573</td>\n",
       "      <td>421.0</td>\n",
       "    </tr>\n",
       "    <tr>\n",
       "      <th>2020-03-23</th>\n",
       "      <td>35.5000</td>\n",
       "      <td>35.5000</td>\n",
       "      <td>35.5000</td>\n",
       "      <td>35.5000</td>\n",
       "      <td>92.0</td>\n",
       "    </tr>\n",
       "  </tbody>\n",
       "</table>\n",
       "</div>"
      ],
      "text/plain": [
       "               open     high      low    close  volume\n",
       "date                                                  \n",
       "2020-03-27  24.8841  24.8841  24.8841  24.8841    14.0\n",
       "2020-03-26  24.8841  24.8841  24.8841  24.8841     1.0\n",
       "2020-03-25  29.8920  29.8920  29.8920  29.8920     0.0\n",
       "2020-03-24  28.7573  28.7573  28.7573  28.7573   421.0\n",
       "2020-03-23  35.5000  35.5000  35.5000  35.5000    92.0"
      ]
     },
     "execution_count": 17,
     "metadata": {},
     "output_type": "execute_result"
    }
   ],
   "source": [
    "# Test your function\n",
    "df_safaricom = get_daily(ticker=\"SCOM\", output_size=\"compact\")\n",
    "\n",
    "print(df_safaricom.info())\n",
    "df_safaricom.head()"
   ]
  },
  {
   "cell_type": "code",
   "execution_count": 18,
   "id": "e5c3b0f0-5fdc-45be-9d6c-4c0198d03543",
   "metadata": {
    "tags": []
   },
   "outputs": [],
   "source": [
    "# Test your Exception\n",
    "df_test = get_daily(ticker=\"SCOM\", output_size=\"compact\")"
   ]
  }
 ],
 "metadata": {
  "kernelspec": {
   "display_name": "Python 3 (ipykernel)",
   "language": "python",
   "name": "python3"
  },
  "language_info": {
   "codemirror_mode": {
    "name": "ipython",
    "version": 3
   },
   "file_extension": ".py",
   "mimetype": "text/x-python",
   "name": "python",
   "nbconvert_exporter": "python",
   "pygments_lexer": "ipython3",
   "version": "3.10.4"
  },
  "toc-showmarkdowntxt": false,
  "toc-showtags": true
 },
 "nbformat": 4,
 "nbformat_minor": 5
}
