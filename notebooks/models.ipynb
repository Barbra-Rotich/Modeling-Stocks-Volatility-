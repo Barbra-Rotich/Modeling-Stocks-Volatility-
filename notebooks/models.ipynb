{
 "cells": [
  {
   "cell_type": "markdown",
   "metadata": {},
   "source": [
    "Model Deployment"
   ]
  },
  {
   "cell_type": "markdown",
   "metadata": {},
   "source": [
    "Deploy the model with an API that others can use to train their own models and predict volatility. First,creating a model for all the code created in the previous notebooks. Then complete the main module, which will hold the FastAPI application with two paths: one for model training and one for prediction. "
   ]
  },
  {
   "cell_type": "code",
   "execution_count": 40,
   "metadata": {
    "tags": []
   },
   "outputs": [
    {
     "name": "stdout",
     "output_type": "stream",
     "text": [
      "The autoreload extension is already loaded. To reload it, use:\n",
      "  %reload_ext autoreload\n",
      "The sql extension is already loaded. To reload it, use:\n",
      "  %reload_ext sql\n"
     ]
    }
   ],
   "source": [
    "%load_ext autoreload\n",
    "%load_ext sql\n",
    "%autoreload 2\n",
    "\n",
    "\n",
    "import sqlite3\n",
    "import requests\n",
    "import os\n",
    "from glob import glob\n",
    "\n",
    "import pandas as pd\n",
    "import matplotlib.pyplot as plt\n",
    "from config import settings\n",
    "import numpy as np\n",
    "from arch import arch_model\n",
    "from data import SQLRepository\n",
    "from statsmodels.graphics.tsaplots import plot_acf, plot_pacf\n",
    "import joblib\n",
    "from arch.univariate.base import ARCHModelResult\n",
    "from data import SQLRepository\n",
    "from sklearn.utils._testing import ignore_warnings\n",
    "from sklearn.exceptions import ConvergenceWarning"
   ]
  },
  {
   "cell_type": "code",
   "execution_count": 41,
   "metadata": {
    "tags": []
   },
   "outputs": [],
   "source": [
    "from warnings import simplefilter\n",
    "from sklearn.exceptions import ConvergenceWarning\n",
    "simplefilter(\"ignore\", category=ConvergenceWarning)"
   ]
  },
  {
   "cell_type": "markdown",
   "metadata": {},
   "source": [
    "Model module\n",
    "\n",
    "I already have code to build,train and make predictions using the Garch(1,1) model. To make the code reusable i'll put it in its own module.\n",
    "\n",
    "First I'll instanciate a repository that will be used for testing the module as I build it"
   ]
  },
  {
   "cell_type": "code",
   "execution_count": 42,
   "metadata": {
    "tags": []
   },
   "outputs": [
    {
     "name": "stdout",
     "output_type": "stream",
     "text": [
      "repo type: <class 'data.SQLRepository'>\n",
      "repo.connection type: <class 'sqlite3.Connection'>\n"
     ]
    }
   ],
   "source": [
    "#Create a SQLRepository named repo. Attach it to a SQLite connection.\n",
    "connection = sqlite3.connect(settings.db_name, check_same_thread=False)\n",
    "repo = SQLRepository(connection=connection)\n",
    "\n",
    "print(\"repo type:\", type(repo))\n",
    "print(\"repo.connection type:\", type(repo.connection))"
   ]
  },
  {
   "cell_type": "markdown",
   "metadata": {},
   "source": [
    "In the model module, create a definition for a GarchModel model class starting with an __init__ method then test the class using  assert statements"
   ]
  },
  {
   "cell_type": "code",
   "execution_count": 43,
   "metadata": {
    "tags": []
   },
   "outputs": [],
   "source": [
    "from model import GarchModel\n",
    "\n",
    "# Instantiate a `GarchModel`\n",
    "gm_cic = GarchModel(ticker=\"CIC\", repo=repo, use_new_data=False)\n",
    "\n",
    "# Does `gm_cic` have the correct attributes?\n",
    "assert gm_cic.ticker == \"CIC\"\n",
    "assert gm_cic.repo == repo\n",
    "assert not gm_cic.use_new_data\n",
    "assert gm_cic.model_directory == settings.model_directory"
   ]
  },
  {
   "cell_type": "markdown",
   "metadata": {},
   "source": [
    "Turn the wrangle_data function from the garch-models notebook into a method for the GarchModel class.Use assert statements to test the method by getting and wrangling data for  Co-operative bank"
   ]
  },
  {
   "cell_type": "code",
   "execution_count": 44,
   "metadata": {
    "tags": []
   },
   "outputs": [
    {
     "data": {
      "text/plain": [
       "date\n",
       "2019-03-22    0.197433\n",
       "2019-03-25    0.000000\n",
       "2019-03-26   -0.098522\n",
       "2019-03-27    0.098619\n",
       "2019-03-28    0.197044\n",
       "Name: return, dtype: float64"
      ]
     },
     "execution_count": 44,
     "metadata": {},
     "output_type": "execute_result"
    }
   ],
   "source": [
    "# Instantiate `GarchModel`, use new data\n",
    "model_cic = GarchModel(ticker=\"CIC\", repo=repo, use_new_data=True)\n",
    "\n",
    "# Check that model doesn't have `data` attribute yet\n",
    "assert not hasattr(model_cic, \"data\")\n",
    "\n",
    "# Wrangle data\n",
    "model_cic.wrangle_data(n_observations=1000)\n",
    "\n",
    "# Does model now have `data` attribute?\n",
    "assert hasattr(model_cic, \"data\")\n",
    "\n",
    "# Is the `data` a Series?\n",
    "assert isinstance(model_cic.data, pd.Series)\n",
    "\n",
    "# Is Series correct shape?\n",
    "assert model_cic.data.shape == (1000,)\n",
    "\n",
    "model_cic.data.head()"
   ]
  },
  {
   "cell_type": "markdown",
   "metadata": {},
   "source": [
    "Create a fit method for the GarchModel class. Test it."
   ]
  },
  {
   "cell_type": "code",
   "execution_count": 45,
   "metadata": {
    "tags": []
   },
   "outputs": [
    {
     "name": "stderr",
     "output_type": "stream",
     "text": [
      "/usr/local/python/3.10.4/lib/python3.10/site-packages/arch/univariate/base.py:753: ConvergenceWarning: The optimizer returned code 8. The message is:\n",
      "Positive directional derivative for linesearch\n",
      "See scipy.optimize.fmin_slsqp for code meaning.\n",
      "\n",
      "  warnings.warn(\n"
     ]
    },
    {
     "data": {
      "text/html": [
       "<table class=\"simpletable\">\n",
       "<caption>Constant Mean - GARCH Model Results</caption>\n",
       "<tr>\n",
       "  <th>Dep. Variable:</th>       <td>return</td>       <th>  R-squared:         </th>  <td>   0.000</td> \n",
       "</tr>\n",
       "<tr>\n",
       "  <th>Mean Model:</th>       <td>Constant Mean</td>   <th>  Adj. R-squared:    </th>  <td>   0.000</td> \n",
       "</tr>\n",
       "<tr>\n",
       "  <th>Vol Model:</th>            <td>GARCH</td>       <th>  Log-Likelihood:    </th> <td>  -2705.76</td>\n",
       "</tr>\n",
       "<tr>\n",
       "  <th>Distribution:</th>        <td>Normal</td>       <th>  AIC:               </th> <td>   5419.52</td>\n",
       "</tr>\n",
       "<tr>\n",
       "  <th>Method:</th>        <td>Maximum Likelihood</td> <th>  BIC:               </th> <td>   5439.15</td>\n",
       "</tr>\n",
       "<tr>\n",
       "  <th></th>                        <td></td>          <th>  No. Observations:  </th>    <td>1000</td>   \n",
       "</tr>\n",
       "<tr>\n",
       "  <th>Date:</th>           <td>Sun, Mar 12 2023</td>  <th>  Df Residuals:      </th>     <td>999</td>   \n",
       "</tr>\n",
       "<tr>\n",
       "  <th>Time:</th>               <td>08:27:27</td>      <th>  Df Model:          </th>      <td>1</td>    \n",
       "</tr>\n",
       "</table>\n",
       "<table class=\"simpletable\">\n",
       "<caption>Mean Model</caption>\n",
       "<tr>\n",
       "   <td></td>     <th>coef</th>     <th>std err</th>      <th>t</th>       <th>P>|t|</th>     <th>95.0% Conf. Int.</th>  \n",
       "</tr>\n",
       "<tr>\n",
       "  <th>mu</th> <td>    0.0237</td> <td>6.073e-02</td> <td>    0.390</td> <td>    0.697</td> <td>[-9.536e-02,  0.143]</td>\n",
       "</tr>\n",
       "</table>\n",
       "<table class=\"simpletable\">\n",
       "<caption>Volatility Model</caption>\n",
       "<tr>\n",
       "      <td></td>        <th>coef</th>     <th>std err</th>      <th>t</th>       <th>P>|t|</th>    <th>95.0% Conf. Int.</th>  \n",
       "</tr>\n",
       "<tr>\n",
       "  <th>omega</th>    <td>    0.0357</td> <td>7.471e-02</td> <td>    0.478</td> <td>    0.633</td>  <td>[ -0.111,  0.182]</td> \n",
       "</tr>\n",
       "<tr>\n",
       "  <th>alpha[1]</th> <td>    0.0882</td> <td>3.102e-02</td> <td>    2.844</td> <td>4.458e-03</td> <td>[2.741e-02,  0.149]</td>\n",
       "</tr>\n",
       "<tr>\n",
       "  <th>beta[1]</th>  <td>    0.9119</td> <td>4.622e-02</td> <td>   19.730</td> <td>1.191e-86</td>  <td>[  0.821,  1.002]</td> \n",
       "</tr>\n",
       "</table><br/><br/>Covariance estimator: robust<br/>WARNING: The optimizer did not indicate successful convergence. The message was Positive directional derivative for linesearch.<br/>See convergence_flag.<br/>"
      ],
      "text/plain": [
       "<class 'statsmodels.iolib.summary.Summary'>\n",
       "\"\"\"\n",
       "                     Constant Mean - GARCH Model Results                      \n",
       "==============================================================================\n",
       "Dep. Variable:                 return   R-squared:                       0.000\n",
       "Mean Model:             Constant Mean   Adj. R-squared:                  0.000\n",
       "Vol Model:                      GARCH   Log-Likelihood:               -2705.76\n",
       "Distribution:                  Normal   AIC:                           5419.52\n",
       "Method:            Maximum Likelihood   BIC:                           5439.15\n",
       "                                        No. Observations:                 1000\n",
       "Date:                Sun, Mar 12 2023   Df Residuals:                      999\n",
       "Time:                        08:27:27   Df Model:                            1\n",
       "                                 Mean Model                                \n",
       "===========================================================================\n",
       "                 coef    std err          t      P>|t|     95.0% Conf. Int.\n",
       "---------------------------------------------------------------------------\n",
       "mu             0.0237  6.073e-02      0.390      0.697 [-9.536e-02,  0.143]\n",
       "                             Volatility Model                             \n",
       "==========================================================================\n",
       "                 coef    std err          t      P>|t|    95.0% Conf. Int.\n",
       "--------------------------------------------------------------------------\n",
       "omega          0.0357  7.471e-02      0.478      0.633   [ -0.111,  0.182]\n",
       "alpha[1]       0.0882  3.102e-02      2.844  4.458e-03 [2.741e-02,  0.149]\n",
       "beta[1]        0.9119  4.622e-02     19.730  1.191e-86   [  0.821,  1.002]\n",
       "==========================================================================\n",
       "\n",
       "Covariance estimator: robust\n",
       "WARNING: The optimizer did not indicate successful convergence. The message was Positive directional derivative for linesearch.\n",
       "See convergence_flag.\n",
       "\n",
       "\"\"\""
      ]
     },
     "execution_count": 45,
     "metadata": {},
     "output_type": "execute_result"
    }
   ],
   "source": [
    "# Instantiate `GarchModel`, use old data\n",
    "model_cic = GarchModel(ticker=\"CIC\", repo=repo, use_new_data=False)\n",
    "\n",
    "# Wrangle data\n",
    "model_cic.wrangle_data(n_observations=1000)\n",
    "\n",
    "# Fit GARCH(1,1) model to data\n",
    "model_cic.fit(p=1, q=1)\n",
    "\n",
    "# Does `model_cic` have a `model` attribute now?\n",
    "assert hasattr(model_cic, \"model\")\n",
    "\n",
    "# Is model correct data type?\n",
    "assert isinstance(model_cic.model, ARCHModelResult)\n",
    "\n",
    "# Does model have correct parameters?\n",
    "assert model_cic.model.params.index.tolist() == [\"mu\", \"omega\", \"alpha[1]\", \"beta[1]\"]\n",
    "\n",
    "# Check model parameters\n",
    "model_cic.model.summary()"
   ]
  },
  {
   "cell_type": "markdown",
   "metadata": {},
   "source": [
    "Create a predict_volatility method for the GarchModel class. Your method will need to return predictions as a dictionary, so you'll need to add your clean_prediction function as a helper method. When you're done, test your work using the assert statements below."
   ]
  },
  {
   "cell_type": "code",
   "execution_count": 46,
   "metadata": {
    "tags": []
   },
   "outputs": [
    {
     "data": {
      "text/plain": [
       "{'2023-03-13T00:00:00': 3.503484632245449,\n",
       " '2023-03-14T00:00:00': 3.5086987178190667,\n",
       " '2023-03-15T00:00:00': 3.5139054294333096,\n",
       " '2023-03-16T00:00:00': 3.5191047998440097,\n",
       " '2023-03-17T00:00:00': 3.524296861567689}"
      ]
     },
     "execution_count": 46,
     "metadata": {},
     "output_type": "execute_result"
    }
   ],
   "source": [
    "# Generate prediction from `CIC`\n",
    "prediction = model_cic.predict_volatility(horizon=5)\n",
    "\n",
    "# Is prediction a dictionary?\n",
    "assert isinstance(prediction, dict)\n",
    "\n",
    "# Are keys correct data type?\n",
    "assert all(isinstance(k, str) for k in prediction.keys())\n",
    "\n",
    "# Are values correct data type?\n",
    "assert all(isinstance(v, float) for v in prediction.values())\n",
    "\n",
    "prediction"
   ]
  },
  {
   "cell_type": "markdown",
   "metadata": {},
   "source": [
    "Saving a trained model to load it when need. I'll use the jolib library"
   ]
  },
  {
   "cell_type": "markdown",
   "metadata": {},
   "source": [
    "Create a dump method for the GarchModel class to save the model assigned to the model attribute to the folder specified in the configuration settings. Test the method."
   ]
  },
  {
   "cell_type": "code",
   "execution_count": 47,
   "metadata": {
    "tags": []
   },
   "outputs": [
    {
     "data": {
      "text/plain": [
       "'models/2023-03-12T08:27:27.582506_CIC.pkl'"
      ]
     },
     "execution_count": 47,
     "metadata": {},
     "output_type": "execute_result"
    }
   ],
   "source": [
    "# Save `model_shop` model, assign filename\n",
    "filename = model_cic.dump()\n",
    "\n",
    "# Is `filename` a string?\n",
    "assert isinstance(filename, str)\n",
    "\n",
    "# Does filename include ticker symbol?\n",
    "assert model_cic.ticker in filename\n",
    "\n",
    "# Does file exist?\n",
    "assert os.path.exists(filename)\n",
    "\n",
    "filename"
   ]
  },
  {
   "cell_type": "markdown",
   "metadata": {},
   "source": [
    "Create a load function that will take a ticker symbol as input and return a model."
   ]
  },
  {
   "cell_type": "code",
   "execution_count": 48,
   "metadata": {
    "tags": []
   },
   "outputs": [],
   "source": [
    "def load(ticker):\n",
    "\n",
    "    \"\"\"Load latest model from model directory.\n",
    "\n",
    "    Parameters\n",
    "    ----------\n",
    "    ticker : str\n",
    "        Ticker symbol for which model was trained.\n",
    "\n",
    "    Returns\n",
    "    -------\n",
    "    `ARCHModelResult`\n",
    "    \"\"\"\n",
    "    # Create pattern for glob search\n",
    "    pattern = pattern = os.path.join(settings.model_directory, f\"*{ticker}.pkl\")\n",
    "\n",
    "\n",
    "    # Try to find path of latest model\n",
    "    try:\n",
    "        model_path = model_path=sorted(glob(pattern))[-1]\n",
    "   \n",
    "    # Handle possible `IndexError`\n",
    "    except IndexError:\n",
    "        raise Exception(f\"No model trained for '{ticker}'.\")\n",
    "\n",
    "\n",
    "    # Load model\n",
    "    model = joblib.load(model_path)\n",
    "\n",
    "    # Return model\n",
    "    return model"
   ]
  },
  {
   "cell_type": "markdown",
   "metadata": {},
   "source": [
    "Test the function"
   ]
  },
  {
   "cell_type": "code",
   "execution_count": 49,
   "metadata": {
    "tags": []
   },
   "outputs": [
    {
     "data": {
      "text/html": [
       "<table class=\"simpletable\">\n",
       "<caption>Constant Mean - GARCH Model Results</caption>\n",
       "<tr>\n",
       "  <th>Dep. Variable:</th>       <td>return</td>       <th>  R-squared:         </th>  <td>   0.000</td> \n",
       "</tr>\n",
       "<tr>\n",
       "  <th>Mean Model:</th>       <td>Constant Mean</td>   <th>  Adj. R-squared:    </th>  <td>   0.000</td> \n",
       "</tr>\n",
       "<tr>\n",
       "  <th>Vol Model:</th>            <td>GARCH</td>       <th>  Log-Likelihood:    </th> <td>  -2705.76</td>\n",
       "</tr>\n",
       "<tr>\n",
       "  <th>Distribution:</th>        <td>Normal</td>       <th>  AIC:               </th> <td>   5419.52</td>\n",
       "</tr>\n",
       "<tr>\n",
       "  <th>Method:</th>        <td>Maximum Likelihood</td> <th>  BIC:               </th> <td>   5439.15</td>\n",
       "</tr>\n",
       "<tr>\n",
       "  <th></th>                        <td></td>          <th>  No. Observations:  </th>    <td>1000</td>   \n",
       "</tr>\n",
       "<tr>\n",
       "  <th>Date:</th>           <td>Sun, Mar 12 2023</td>  <th>  Df Residuals:      </th>     <td>999</td>   \n",
       "</tr>\n",
       "<tr>\n",
       "  <th>Time:</th>               <td>08:27:27</td>      <th>  Df Model:          </th>      <td>1</td>    \n",
       "</tr>\n",
       "</table>\n",
       "<table class=\"simpletable\">\n",
       "<caption>Mean Model</caption>\n",
       "<tr>\n",
       "   <td></td>     <th>coef</th>     <th>std err</th>      <th>t</th>       <th>P>|t|</th>     <th>95.0% Conf. Int.</th>  \n",
       "</tr>\n",
       "<tr>\n",
       "  <th>mu</th> <td>    0.0237</td> <td>6.073e-02</td> <td>    0.390</td> <td>    0.697</td> <td>[-9.536e-02,  0.143]</td>\n",
       "</tr>\n",
       "</table>\n",
       "<table class=\"simpletable\">\n",
       "<caption>Volatility Model</caption>\n",
       "<tr>\n",
       "      <td></td>        <th>coef</th>     <th>std err</th>      <th>t</th>       <th>P>|t|</th>    <th>95.0% Conf. Int.</th>  \n",
       "</tr>\n",
       "<tr>\n",
       "  <th>omega</th>    <td>    0.0357</td> <td>7.471e-02</td> <td>    0.478</td> <td>    0.633</td>  <td>[ -0.111,  0.182]</td> \n",
       "</tr>\n",
       "<tr>\n",
       "  <th>alpha[1]</th> <td>    0.0882</td> <td>3.102e-02</td> <td>    2.844</td> <td>4.458e-03</td> <td>[2.741e-02,  0.149]</td>\n",
       "</tr>\n",
       "<tr>\n",
       "  <th>beta[1]</th>  <td>    0.9119</td> <td>4.622e-02</td> <td>   19.730</td> <td>1.191e-86</td>  <td>[  0.821,  1.002]</td> \n",
       "</tr>\n",
       "</table><br/><br/>Covariance estimator: robust<br/>WARNING: The optimizer did not indicate successful convergence. The message was Positive directional derivative for linesearch.<br/>See convergence_flag.<br/>"
      ],
      "text/plain": [
       "<class 'statsmodels.iolib.summary.Summary'>\n",
       "\"\"\"\n",
       "                     Constant Mean - GARCH Model Results                      \n",
       "==============================================================================\n",
       "Dep. Variable:                 return   R-squared:                       0.000\n",
       "Mean Model:             Constant Mean   Adj. R-squared:                  0.000\n",
       "Vol Model:                      GARCH   Log-Likelihood:               -2705.76\n",
       "Distribution:                  Normal   AIC:                           5419.52\n",
       "Method:            Maximum Likelihood   BIC:                           5439.15\n",
       "                                        No. Observations:                 1000\n",
       "Date:                Sun, Mar 12 2023   Df Residuals:                      999\n",
       "Time:                        08:27:27   Df Model:                            1\n",
       "                                 Mean Model                                \n",
       "===========================================================================\n",
       "                 coef    std err          t      P>|t|     95.0% Conf. Int.\n",
       "---------------------------------------------------------------------------\n",
       "mu             0.0237  6.073e-02      0.390      0.697 [-9.536e-02,  0.143]\n",
       "                             Volatility Model                             \n",
       "==========================================================================\n",
       "                 coef    std err          t      P>|t|    95.0% Conf. Int.\n",
       "--------------------------------------------------------------------------\n",
       "omega          0.0357  7.471e-02      0.478      0.633   [ -0.111,  0.182]\n",
       "alpha[1]       0.0882  3.102e-02      2.844  4.458e-03 [2.741e-02,  0.149]\n",
       "beta[1]        0.9119  4.622e-02     19.730  1.191e-86   [  0.821,  1.002]\n",
       "==========================================================================\n",
       "\n",
       "Covariance estimator: robust\n",
       "WARNING: The optimizer did not indicate successful convergence. The message was Positive directional derivative for linesearch.\n",
       "See convergence_flag.\n",
       "\n",
       "\"\"\""
      ]
     },
     "execution_count": 49,
     "metadata": {},
     "output_type": "execute_result"
    }
   ],
   "source": [
    "# Assign load output to `model`\n",
    "model_cic = load(ticker=\"CIC\")\n",
    "\n",
    "# Does function return an `ARCHModelResult`\n",
    "assert isinstance(model_cic, ARCHModelResult)\n",
    "\n",
    "# Check model parameters\n",
    "model_cic.summary()"
   ]
  },
  {
   "cell_type": "markdown",
   "metadata": {},
   "source": [
    "Transform the load function into a method for the GarchModel class.Test the method"
   ]
  },
  {
   "cell_type": "code",
   "execution_count": 50,
   "metadata": {
    "tags": []
   },
   "outputs": [
    {
     "data": {
      "text/html": [
       "<table class=\"simpletable\">\n",
       "<caption>Constant Mean - GARCH Model Results</caption>\n",
       "<tr>\n",
       "  <th>Dep. Variable:</th>       <td>return</td>       <th>  R-squared:         </th>  <td>   0.000</td> \n",
       "</tr>\n",
       "<tr>\n",
       "  <th>Mean Model:</th>       <td>Constant Mean</td>   <th>  Adj. R-squared:    </th>  <td>   0.000</td> \n",
       "</tr>\n",
       "<tr>\n",
       "  <th>Vol Model:</th>            <td>GARCH</td>       <th>  Log-Likelihood:    </th> <td>  -2705.76</td>\n",
       "</tr>\n",
       "<tr>\n",
       "  <th>Distribution:</th>        <td>Normal</td>       <th>  AIC:               </th> <td>   5419.52</td>\n",
       "</tr>\n",
       "<tr>\n",
       "  <th>Method:</th>        <td>Maximum Likelihood</td> <th>  BIC:               </th> <td>   5439.15</td>\n",
       "</tr>\n",
       "<tr>\n",
       "  <th></th>                        <td></td>          <th>  No. Observations:  </th>    <td>1000</td>   \n",
       "</tr>\n",
       "<tr>\n",
       "  <th>Date:</th>           <td>Sun, Mar 12 2023</td>  <th>  Df Residuals:      </th>     <td>999</td>   \n",
       "</tr>\n",
       "<tr>\n",
       "  <th>Time:</th>               <td>08:27:27</td>      <th>  Df Model:          </th>      <td>1</td>    \n",
       "</tr>\n",
       "</table>\n",
       "<table class=\"simpletable\">\n",
       "<caption>Mean Model</caption>\n",
       "<tr>\n",
       "   <td></td>     <th>coef</th>     <th>std err</th>      <th>t</th>       <th>P>|t|</th>     <th>95.0% Conf. Int.</th>  \n",
       "</tr>\n",
       "<tr>\n",
       "  <th>mu</th> <td>    0.0237</td> <td>6.073e-02</td> <td>    0.390</td> <td>    0.697</td> <td>[-9.536e-02,  0.143]</td>\n",
       "</tr>\n",
       "</table>\n",
       "<table class=\"simpletable\">\n",
       "<caption>Volatility Model</caption>\n",
       "<tr>\n",
       "      <td></td>        <th>coef</th>     <th>std err</th>      <th>t</th>       <th>P>|t|</th>    <th>95.0% Conf. Int.</th>  \n",
       "</tr>\n",
       "<tr>\n",
       "  <th>omega</th>    <td>    0.0357</td> <td>7.471e-02</td> <td>    0.478</td> <td>    0.633</td>  <td>[ -0.111,  0.182]</td> \n",
       "</tr>\n",
       "<tr>\n",
       "  <th>alpha[1]</th> <td>    0.0882</td> <td>3.102e-02</td> <td>    2.844</td> <td>4.458e-03</td> <td>[2.741e-02,  0.149]</td>\n",
       "</tr>\n",
       "<tr>\n",
       "  <th>beta[1]</th>  <td>    0.9119</td> <td>4.622e-02</td> <td>   19.730</td> <td>1.191e-86</td>  <td>[  0.821,  1.002]</td> \n",
       "</tr>\n",
       "</table><br/><br/>Covariance estimator: robust<br/>WARNING: The optimizer did not indicate successful convergence. The message was Positive directional derivative for linesearch.<br/>See convergence_flag.<br/>"
      ],
      "text/plain": [
       "<class 'statsmodels.iolib.summary.Summary'>\n",
       "\"\"\"\n",
       "                     Constant Mean - GARCH Model Results                      \n",
       "==============================================================================\n",
       "Dep. Variable:                 return   R-squared:                       0.000\n",
       "Mean Model:             Constant Mean   Adj. R-squared:                  0.000\n",
       "Vol Model:                      GARCH   Log-Likelihood:               -2705.76\n",
       "Distribution:                  Normal   AIC:                           5419.52\n",
       "Method:            Maximum Likelihood   BIC:                           5439.15\n",
       "                                        No. Observations:                 1000\n",
       "Date:                Sun, Mar 12 2023   Df Residuals:                      999\n",
       "Time:                        08:27:27   Df Model:                            1\n",
       "                                 Mean Model                                \n",
       "===========================================================================\n",
       "                 coef    std err          t      P>|t|     95.0% Conf. Int.\n",
       "---------------------------------------------------------------------------\n",
       "mu             0.0237  6.073e-02      0.390      0.697 [-9.536e-02,  0.143]\n",
       "                             Volatility Model                             \n",
       "==========================================================================\n",
       "                 coef    std err          t      P>|t|    95.0% Conf. Int.\n",
       "--------------------------------------------------------------------------\n",
       "omega          0.0357  7.471e-02      0.478      0.633   [ -0.111,  0.182]\n",
       "alpha[1]       0.0882  3.102e-02      2.844  4.458e-03 [2.741e-02,  0.149]\n",
       "beta[1]        0.9119  4.622e-02     19.730  1.191e-86   [  0.821,  1.002]\n",
       "==========================================================================\n",
       "\n",
       "Covariance estimator: robust\n",
       "WARNING: The optimizer did not indicate successful convergence. The message was Positive directional derivative for linesearch.\n",
       "See convergence_flag.\n",
       "\n",
       "\"\"\""
      ]
     },
     "execution_count": 50,
     "metadata": {},
     "output_type": "execute_result"
    }
   ],
   "source": [
    "model_cic = GarchModel(ticker=\"CIC\", repo=repo, use_new_data=False)\n",
    "\n",
    "# Check that new `model_cic` doesn't have model attached\n",
    "assert not hasattr(model_cic, \"model\")\n",
    "\n",
    "# Load model\n",
    "model_cic.load()\n",
    "\n",
    "# Does `model_cic` have model attached?\n",
    "assert hasattr(model_cic, \"model\")\n",
    "\n",
    "model_cic.model.summary()"
   ]
  },
  {
   "cell_type": "markdown",
   "metadata": {
    "tags": []
   },
   "source": [
    "Done with the model module, moving on to the main module that completes a FastApi interactive application for the model."
   ]
  },
  {
   "cell_type": "markdown",
   "metadata": {},
   "source": [
    "In the main module, instantiate a FastAPI application named app\n",
    "Run it on a server. In this case, we'll run the server on our virtual machine using the uvicorn library\n",
    "\n",
    "Run the command uvicorn main:app --reload --workers 1 --host localhost --port 8008 to start up the app server"
   ]
  },
  {
   "cell_type": "code",
   "execution_count": 51,
   "metadata": {
    "tags": []
   },
   "outputs": [
    {
     "name": "stdout",
     "output_type": "stream",
     "text": [
      "response code: 200\n"
     ]
    },
    {
     "data": {
      "text/plain": [
       "{'message': 'Hello world!'}"
      ]
     },
     "execution_count": 51,
     "metadata": {},
     "output_type": "execute_result"
    }
   ],
   "source": [
    "#Create a \"/hello\" path for your app that returns a greeting when it receives a get request.\n",
    "#Create a get request to hit the \"/hello\" path running at \"http://localhost:8008\".\n",
    "\n",
    "url = \"http://localhost:8008/hello\"\n",
    "response = requests.get(url=url)\n",
    "\n",
    "print(\"response code:\", response.status_code)\n",
    "response.json()"
   ]
  },
  {
   "cell_type": "markdown",
   "metadata": {},
   "source": [
    "/fit\" Path"
   ]
  },
  {
   "cell_type": "markdown",
   "metadata": {},
   "source": [
    "The first path will allow the user to fit a model to stock data when they make a post request to the server. They'll have the choice to use new data from AlphaVantage, or older data that's already in the database. When a user makes a request, they'll receive a response telling them if the operation was successful or whether there was an error.\n",
    "\n",
    "The FastApi will use the pydantic library, which checks that each request has the correct parameters and data types. It does this by using special data classes I'll define in the \"/fit\" path classes. The \"/fit\" path will take user input and then output a response,these two will be my classes"
   ]
  },
  {
   "cell_type": "markdown",
   "metadata": {},
   "source": [
    "Create definitions for a FitIn and a FitOut data class. The FitIn class inherits from the pydantic BaseClass, and the FitOut class inherits from the FitIn class. I'll include type hints."
   ]
  },
  {
   "cell_type": "markdown",
   "metadata": {
    "tags": []
   },
   "source": [
    "Test whether pydantic ensures that users are supplying the correct input and the application is returning the correct output"
   ]
  },
  {
   "cell_type": "code",
   "execution_count": 52,
   "metadata": {
    "tags": []
   },
   "outputs": [
    {
     "name": "stdout",
     "output_type": "stream",
     "text": [
      "ticker='CIC' use_new_data=True n_observations=2000 p=1 q=1\n",
      "ticker='CIC' use_new_data=True n_observations=2000 p=1 q=1 success=True message='Method is ready to rock!'\n"
     ]
    }
   ],
   "source": [
    "from main import FitIn, FitOut\n",
    "\n",
    "# Instantiate `FitIn`. Play with parameters.\n",
    "fi = FitIn(\n",
    "    ticker=\"CIC\",\n",
    "    use_new_data= True,\n",
    "    n_observations= 2000,\n",
    "    p=1,\n",
    "    q=1\n",
    ")\n",
    "\n",
    "print(fi)\n",
    "\n",
    "# Instantiate `FitOut`. Play with parameters.\n",
    "fo = FitOut(\n",
    "    ticker=\"CIC\",\n",
    "    use_new_data= True,\n",
    "    n_observations= 2000,\n",
    "    p=1,\n",
    "    q=1,\n",
    "    success= True,\n",
    "    message=\"Method is ready to rock!\"\n",
    ")\n",
    "print(fo)"
   ]
  },
  {
   "cell_type": "markdown",
   "metadata": {},
   "source": [
    "Next, i'll create a function that instantiates a GarchModel object each time a user makes a request"
   ]
  },
  {
   "cell_type": "code",
   "execution_count": 53,
   "metadata": {
    "tags": []
   },
   "outputs": [
    {
     "data": {
      "text/plain": [
       "<model.GarchModel at 0x7f85d9406fb0>"
      ]
     },
     "execution_count": 53,
     "metadata": {},
     "output_type": "execute_result"
    }
   ],
   "source": [
    "#Create a build_model function in the main module.\n",
    "from main import build_model\n",
    "\n",
    "# Instantiate `GarchModel` with function\n",
    "model_coop = build_model(ticker=\"COOP\", use_new_data=False)\n",
    "\n",
    "# Is `SQLRepository` attached to `model_coop`?\n",
    "assert isinstance(model_coop.repo, SQLRepository)\n",
    "\n",
    "# Is SQLite database attached to `SQLRepository`\n",
    "assert isinstance(model_coop.repo.connection, sqlite3.Connection)\n",
    "\n",
    "# Is `ticker` attribute correct?\n",
    "assert model_coop.ticker == \"COOP\"\n",
    "\n",
    "# Is `use_new_data` attribute correct?\n",
    "assert not model_coop.use_new_data\n",
    "\n",
    "model_coop"
   ]
  },
  {
   "cell_type": "markdown",
   "metadata": {},
   "source": [
    "I now have a data classes,a build_model function. So I'll just build the \"/fit\" path and include features, like error handling."
   ]
  },
  {
   "cell_type": "markdown",
   "metadata": {},
   "source": [
    "\n",
    "So I'll create a \"/fit\" path for the app. It will take a FitIn object as input, and then build a GarchModel using the build_model function. The model will wrangle the needed data, fit to the data, and save the completed model. Finally, it will send a response in the form of a FitOut object. It will also handle any errors that may arise."
   ]
  },
  {
   "cell_type": "code",
   "execution_count": 54,
   "metadata": {
    "tags": []
   },
   "outputs": [
    {
     "name": "stdout",
     "output_type": "stream",
     "text": [
      "response code: 200\n"
     ]
    },
    {
     "data": {
      "text/plain": [
       "{'ticker': 'EQTY',\n",
       " 'use_new_data': True,\n",
       " 'n_observations': 2000,\n",
       " 'p': 1,\n",
       " 'q': 1,\n",
       " 'success': True,\n",
       " 'message': \"trained and saved 'models/2023-03-12T08:27:28.437621_EQTY.pkl'.Metrics: AIC 205.3144, BIC 213.6918.\"}"
      ]
     },
     "execution_count": 54,
     "metadata": {},
     "output_type": "execute_result"
    }
   ],
   "source": [
    "#Create a post request to hit the \"/fit\" path running at \"http://localhost:8008\". \n",
    "#Train a GARCH(1,1) model on 2000 observations of Equity data that's already downloaded. Pass in the parameters as a dictionary using the json argument.\n",
    "\n",
    "# URL of `/fit` path\n",
    "url = \"http://localhost:8008/fit\"\n",
    "\n",
    "# Data to send to path\n",
    "json = {\n",
    "    \"ticker\" : \"EQTY\",\n",
    "    \"use_new_data\": True,\n",
    "    \"n_observations\": 2000,\n",
    "    \"p\":1,\n",
    "    \"q\":1\n",
    "    \n",
    "}\n",
    "# Response of post request\n",
    "response = requests.post(url=url, json=json)\n",
    "# Inspect response\n",
    "print(\"response code:\", response.status_code)\n",
    "response.json()"
   ]
  },
  {
   "cell_type": "markdown",
   "metadata": {},
   "source": [
    "\"/predict\" Path"
   ]
  },
  {
   "cell_type": "markdown",
   "metadata": {},
   "source": [
    "For the `\"/predict\"` path, users will be able to make a `post` request with the ticker symbol they want a prediction for and the number of days they want to forecast into the future. The app will return a forecast or, if there's an error, a message explaining the problem.\n",
    "\n",
    "I'll start with data classes for the in- and output."
   ]
  },
  {
   "cell_type": "markdown",
   "metadata": {},
   "source": [
    "So I'll Create definitions for a PredictIn and PredictOut data class. The PredictIn class should inherit from the pydantic BaseModel, and the PredictOut class should inherit from the PredictIn class.I will also include type hints then test the classes."
   ]
  },
  {
   "cell_type": "code",
   "execution_count": 55,
   "metadata": {
    "tags": []
   },
   "outputs": [
    {
     "name": "stdout",
     "output_type": "stream",
     "text": [
      "ticker='CIC' n_days=5\n",
      "ticker='CIC' n_days=5 success=True forecast={} message='success'\n"
     ]
    }
   ],
   "source": [
    "from main import PredictIn, PredictOut\n",
    "\n",
    "pi = PredictIn(ticker=\"CIC\", n_days=5)\n",
    "print(pi)\n",
    "\n",
    "po = PredictOut(\n",
    "    ticker=\"CIC\", n_days=5, success=True, forecast={}, message=\"success\"\n",
    ")\n",
    "print(po)"
   ]
  },
  {
   "cell_type": "markdown",
   "metadata": {},
   "source": [
    "Next i'll create a \"/predict\" path for the app. It will take a PredictIn object as input, build a GarchModel, load the most recent trained model for the given ticker, and generate a dictionary of predictions. It will then return a PredictOut object with the predictions included and handle any errors that may arise."
   ]
  },
  {
   "cell_type": "markdown",
   "metadata": {},
   "source": [
    "Next I'll create a post request to hit the \"/predict\" path running at \"http://localhost:8008\". "
   ]
  },
  {
   "cell_type": "code",
   "execution_count": 56,
   "metadata": {
    "tags": []
   },
   "outputs": [
    {
     "data": {
      "text/plain": [
       "{'ticker': 'CIC',\n",
       " 'n_days': 3,\n",
       " 'success': True,\n",
       " 'forecast': {'2023-03-13T00:00:00': 3.503484632245449,\n",
       "  '2023-03-14T00:00:00': 3.5086987178190667,\n",
       "  '2023-03-15T00:00:00': 3.5139054294333096},\n",
       " 'message': 'Done'}"
      ]
     },
     "execution_count": 56,
     "metadata": {},
     "output_type": "execute_result"
    }
   ],
   "source": [
    "# URL of `/predict` path\n",
    "url = \"http://localhost:8008/predict\"\n",
    "# Data to send to path\n",
    "json = {\"ticker\": \"CIC\",\"n_days\":3}\n",
    "# Response of post request\n",
    "response = requests.post(url=url, json=json)\n",
    "# Response JSON to be submitted to grader\n",
    "submission = response.json()\n",
    "# Inspect JSON\n",
    "submission"
   ]
  }
 ],
 "metadata": {
  "kernelspec": {
   "display_name": "Python 3 (ipykernel)",
   "language": "python",
   "name": "python3"
  },
  "language_info": {
   "codemirror_mode": {
    "name": "ipython",
    "version": 3
   },
   "file_extension": ".py",
   "mimetype": "text/x-python",
   "name": "python",
   "nbconvert_exporter": "python",
   "pygments_lexer": "ipython3",
   "version": "3.10.4"
  }
 },
 "nbformat": 4,
 "nbformat_minor": 4
}
